{
 "cells": [
  {
   "cell_type": "markdown",
   "metadata": {},
   "source": [
    "# Mini-Project I\n",
    "During this project, we will practice handling of complex lists and dictionaries in Python. Plus, we will learn how to work with API documentation. Don't be afraid to search for the information in the [**documentation**](https://api.tfl.gov.uk/swagger/ui/index.html?url=/swagger/docs/v1#!/AccidentStats/AccidentStats_Get).\n",
    "\n",
    "Let's go to the tasks, we have some parsing to do :)!!"
   ]
  },
  {
   "cell_type": "code",
   "execution_count": 2,
   "metadata": {},
   "outputs": [],
   "source": [
    "# import packages we need (remember what packages we used yesterday during the API session)\n",
    "import requests as re\n",
    "import os\n",
    "from IPython.display import JSON\n",
    "from PIL import Image"
   ]
  },
  {
   "cell_type": "code",
   "execution_count": 3,
   "metadata": {},
   "outputs": [],
   "source": [
    "url = 'https://api.tfl.gov.uk'\n",
    "\n",
    "def call_json(titleMode, url_append):\n",
    "    res = re.get(url + url_append)\n",
    "    titleMode = res.json()\n",
    "    return"
   ]
  },
  {
   "cell_type": "markdown",
   "metadata": {},
   "source": [
    "## Demo"
   ]
  },
  {
   "cell_type": "code",
   "execution_count": null,
   "metadata": {},
   "outputs": [],
   "source": [
    "# don't forget package os\n",
    "#app_id = os.environ[\"<your app id name>\"]\n",
    "#app_key = os.environ[\"<your app key name>\"]\n",
    "#url_append = f'?app_id={app_id}&app_key={app_key}' "
   ]
  },
  {
   "cell_type": "code",
   "execution_count": null,
   "metadata": {},
   "outputs": [],
   "source": [
    "#print(url_append)"
   ]
  },
  {
   "cell_type": "code",
   "execution_count": 5,
   "metadata": {},
   "outputs": [],
   "source": [
    "# URL\n",
    "url_append = \"/AirQuality\"\n",
    "#call_json(AirQuality, '/AirQuality')"
   ]
  },
  {
   "cell_type": "code",
   "execution_count": 6,
   "metadata": {},
   "outputs": [],
   "source": [
    "# We send the request to the API\n",
    "# NOTE: if you don't have your APP_KEY, run this without the url_append\n",
    "res = re.get(url+url_append)"
   ]
  },
  {
   "cell_type": "code",
   "execution_count": 7,
   "metadata": {},
   "outputs": [
    {
     "data": {
      "text/plain": [
       "200"
      ]
     },
     "execution_count": 7,
     "metadata": {},
     "output_type": "execute_result"
    }
   ],
   "source": [
    "# We can check if the request was successful\n",
    "res.status_code"
   ]
  },
  {
   "cell_type": "code",
   "execution_count": 8,
   "metadata": {},
   "outputs": [],
   "source": [
    "# We can export the information that was returned using method .json()\n",
    "AirQuality = res.json()\n",
    "#AirQuality # uncomment to look at raw json file"
   ]
  },
  {
   "cell_type": "code",
   "execution_count": null,
   "metadata": {},
   "outputs": [],
   "source": [
    "JSON(AirQuality)"
   ]
  },
  {
   "cell_type": "markdown",
   "metadata": {},
   "source": [
    "## Task\n",
    "Parse the dictionary and print the AirQuality predictions for tomorrow"
   ]
  },
  {
   "cell_type": "code",
   "execution_count": 9,
   "metadata": {},
   "outputs": [],
   "source": [
    "predSum = AirQuality['currentForecast'][1]['forecastSummary']\n",
    "predText = AirQuality['currentForecast'][1]['forecastText']"
   ]
  },
  {
   "cell_type": "code",
   "execution_count": 10,
   "metadata": {},
   "outputs": [
    {
     "data": {
      "text/plain": [
       "'Low air pollution forecast valid from Saturday 6 March to end of Monday 8 March GMT'"
      ]
     },
     "execution_count": 10,
     "metadata": {},
     "output_type": "execute_result"
    }
   ],
   "source": [
    "predSum"
   ]
  },
  {
   "cell_type": "code",
   "execution_count": 11,
   "metadata": {},
   "outputs": [
    {
     "data": {
      "text/plain": [
       "'Dry with sunny spells on Saturday with cloud developing in the afternoon. Both Sunday and Monday forecast to be mainly dry with variable amount of cloud and sunny spells. &lt;br/&gt;The expected northerly air flow should ensure a &#39;clean&#39; air feed and good dispersion of any locally produced pollutants. &lt;br/&gt;&lt;br/&gt;Air Pollution is expected to remain &#39;Low&#39; for the following pollutants:&lt;br/&gt;&lt;br/&gt;Nitrogen Dioxide&lt;br/&gt;Ozone&lt;br/&gt;PM10 Particulate&lt;br/&gt;PM2.5 Particulate&lt;br/&gt;Sulphur Dioxide'"
      ]
     },
     "execution_count": 11,
     "metadata": {},
     "output_type": "execute_result"
    }
   ],
   "source": [
    "predText"
   ]
  },
  {
   "cell_type": "markdown",
   "metadata": {},
   "source": [
    "## Task\n",
    "What are the different modes of transport which are operated by Transfer for London? How many of modes do they have?\n",
    "\n",
    "Print the list with different modes of transport, plus their count. Example output:\n",
    "```\n",
    "[bus, cable-car,.....]\n",
    "Number of different modes of transport is: xyz\n",
    "```\n",
    "\n",
    "We need to search the documentation for correct request."
   ]
  },
  {
   "cell_type": "code",
   "execution_count": 48,
   "metadata": {},
   "outputs": [
    {
     "name": "stdout",
     "output_type": "stream",
     "text": [
      "The different modes of transport in London are:\n",
      "black-cab-as-customer\n",
      "black-cab-as-driver\n",
      "bus\n",
      "cable-car\n",
      "coach\n",
      "cycle\n",
      "cycle-hire\n",
      "dlr\n",
      "electric-car\n",
      "goods-vehicle-as-driver\n",
      "interchange-keep-sitting\n",
      "interchange-secure\n",
      "international-rail\n",
      "motorbike-scooter\n",
      "national-rail\n",
      "overground\n",
      "plane\n",
      "private-car\n",
      "private-coach-as-customer\n",
      "private-coach-as-driver\n",
      "private-hire-as-customer\n",
      "private-hire-as-driver\n",
      "replacement-bus\n",
      "river-bus\n",
      "river-tour\n",
      "taxi\n",
      "tflrail\n",
      "tram\n",
      "tube\n",
      "walking\n",
      "The number of different modes of transport is: 30\n"
     ]
    }
   ],
   "source": [
    "#call_json(Journey,'/Journey/Meta/Modes')\n",
    "url_append = '/Journey/Meta/Modes' # using the Journey API to determine all possible modes of transport\n",
    "res = re.get(url+url_append)\n",
    "Journey = res.json()\n",
    "#JSON(Journey)\n",
    "\n",
    "ModesTransport = [mode['modeName'] for mode in Journey]\n",
    "\n",
    "print('The different modes of transport in London are:')\n",
    "print('\\n'.join(ModesTransport))\n",
    "count = len(ModesTransport)\n",
    "print(f'The number of different modes of transport is: {count}')\n"
   ]
  },
  {
   "cell_type": "code",
   "execution_count": 45,
   "metadata": {},
   "outputs": [
    {
     "data": {
      "application/json": [
       {
        "$type": "Tfl.Api.Presentation.Entities.Mode, Tfl.Api.Presentation.Entities",
        "isFarePaying": true,
        "isScheduledService": false,
        "isTflService": false,
        "modeName": "black-cab-as-customer"
       },
       {
        "$type": "Tfl.Api.Presentation.Entities.Mode, Tfl.Api.Presentation.Entities",
        "isFarePaying": false,
        "isScheduledService": false,
        "isTflService": false,
        "modeName": "black-cab-as-driver"
       },
       {
        "$type": "Tfl.Api.Presentation.Entities.Mode, Tfl.Api.Presentation.Entities",
        "isFarePaying": true,
        "isScheduledService": true,
        "isTflService": true,
        "modeName": "bus"
       },
       {
        "$type": "Tfl.Api.Presentation.Entities.Mode, Tfl.Api.Presentation.Entities",
        "isFarePaying": true,
        "isScheduledService": true,
        "isTflService": true,
        "modeName": "cable-car"
       },
       {
        "$type": "Tfl.Api.Presentation.Entities.Mode, Tfl.Api.Presentation.Entities",
        "isFarePaying": true,
        "isScheduledService": true,
        "isTflService": false,
        "modeName": "coach"
       },
       {
        "$type": "Tfl.Api.Presentation.Entities.Mode, Tfl.Api.Presentation.Entities",
        "isFarePaying": false,
        "isScheduledService": false,
        "isTflService": false,
        "modeName": "cycle"
       },
       {
        "$type": "Tfl.Api.Presentation.Entities.Mode, Tfl.Api.Presentation.Entities",
        "isFarePaying": true,
        "isScheduledService": false,
        "isTflService": true,
        "modeName": "cycle-hire"
       },
       {
        "$type": "Tfl.Api.Presentation.Entities.Mode, Tfl.Api.Presentation.Entities",
        "isFarePaying": true,
        "isScheduledService": true,
        "isTflService": true,
        "modeName": "dlr"
       },
       {
        "$type": "Tfl.Api.Presentation.Entities.Mode, Tfl.Api.Presentation.Entities",
        "isFarePaying": false,
        "isScheduledService": false,
        "isTflService": false,
        "modeName": "electric-car"
       },
       {
        "$type": "Tfl.Api.Presentation.Entities.Mode, Tfl.Api.Presentation.Entities",
        "isFarePaying": false,
        "isScheduledService": false,
        "isTflService": false,
        "modeName": "goods-vehicle-as-driver"
       },
       {
        "$type": "Tfl.Api.Presentation.Entities.Mode, Tfl.Api.Presentation.Entities",
        "isFarePaying": false,
        "isScheduledService": false,
        "isTflService": false,
        "modeName": "interchange-keep-sitting"
       },
       {
        "$type": "Tfl.Api.Presentation.Entities.Mode, Tfl.Api.Presentation.Entities",
        "isFarePaying": false,
        "isScheduledService": false,
        "isTflService": false,
        "modeName": "interchange-secure"
       },
       {
        "$type": "Tfl.Api.Presentation.Entities.Mode, Tfl.Api.Presentation.Entities",
        "isFarePaying": true,
        "isScheduledService": true,
        "isTflService": false,
        "modeName": "international-rail"
       },
       {
        "$type": "Tfl.Api.Presentation.Entities.Mode, Tfl.Api.Presentation.Entities",
        "isFarePaying": false,
        "isScheduledService": false,
        "isTflService": false,
        "modeName": "motorbike-scooter"
       },
       {
        "$type": "Tfl.Api.Presentation.Entities.Mode, Tfl.Api.Presentation.Entities",
        "isFarePaying": true,
        "isScheduledService": true,
        "isTflService": false,
        "modeName": "national-rail"
       },
       {
        "$type": "Tfl.Api.Presentation.Entities.Mode, Tfl.Api.Presentation.Entities",
        "isFarePaying": true,
        "isScheduledService": true,
        "isTflService": true,
        "modeName": "overground"
       },
       {
        "$type": "Tfl.Api.Presentation.Entities.Mode, Tfl.Api.Presentation.Entities",
        "isFarePaying": true,
        "isScheduledService": true,
        "isTflService": false,
        "modeName": "plane"
       },
       {
        "$type": "Tfl.Api.Presentation.Entities.Mode, Tfl.Api.Presentation.Entities",
        "isFarePaying": false,
        "isScheduledService": false,
        "isTflService": false,
        "modeName": "private-car"
       },
       {
        "$type": "Tfl.Api.Presentation.Entities.Mode, Tfl.Api.Presentation.Entities",
        "isFarePaying": false,
        "isScheduledService": false,
        "isTflService": false,
        "modeName": "private-coach-as-customer"
       },
       {
        "$type": "Tfl.Api.Presentation.Entities.Mode, Tfl.Api.Presentation.Entities",
        "isFarePaying": false,
        "isScheduledService": false,
        "isTflService": false,
        "modeName": "private-coach-as-driver"
       },
       {
        "$type": "Tfl.Api.Presentation.Entities.Mode, Tfl.Api.Presentation.Entities",
        "isFarePaying": true,
        "isScheduledService": false,
        "isTflService": false,
        "modeName": "private-hire-as-customer"
       },
       {
        "$type": "Tfl.Api.Presentation.Entities.Mode, Tfl.Api.Presentation.Entities",
        "isFarePaying": false,
        "isScheduledService": false,
        "isTflService": false,
        "modeName": "private-hire-as-driver"
       },
       {
        "$type": "Tfl.Api.Presentation.Entities.Mode, Tfl.Api.Presentation.Entities",
        "isFarePaying": true,
        "isScheduledService": true,
        "isTflService": true,
        "modeName": "replacement-bus"
       },
       {
        "$type": "Tfl.Api.Presentation.Entities.Mode, Tfl.Api.Presentation.Entities",
        "isFarePaying": true,
        "isScheduledService": true,
        "isTflService": true,
        "modeName": "river-bus"
       },
       {
        "$type": "Tfl.Api.Presentation.Entities.Mode, Tfl.Api.Presentation.Entities",
        "isFarePaying": true,
        "isScheduledService": true,
        "isTflService": true,
        "modeName": "river-tour"
       },
       {
        "$type": "Tfl.Api.Presentation.Entities.Mode, Tfl.Api.Presentation.Entities",
        "isFarePaying": false,
        "isScheduledService": false,
        "isTflService": false,
        "modeName": "taxi"
       },
       {
        "$type": "Tfl.Api.Presentation.Entities.Mode, Tfl.Api.Presentation.Entities",
        "isFarePaying": true,
        "isScheduledService": true,
        "isTflService": true,
        "modeName": "tflrail"
       },
       {
        "$type": "Tfl.Api.Presentation.Entities.Mode, Tfl.Api.Presentation.Entities",
        "isFarePaying": true,
        "isScheduledService": true,
        "isTflService": true,
        "modeName": "tram"
       },
       {
        "$type": "Tfl.Api.Presentation.Entities.Mode, Tfl.Api.Presentation.Entities",
        "isFarePaying": true,
        "isScheduledService": true,
        "isTflService": true,
        "modeName": "tube"
       },
       {
        "$type": "Tfl.Api.Presentation.Entities.Mode, Tfl.Api.Presentation.Entities",
        "isFarePaying": false,
        "isScheduledService": false,
        "isTflService": false,
        "modeName": "walking"
       }
      ],
      "text/plain": [
       "<IPython.core.display.JSON object>"
      ]
     },
     "execution_count": 45,
     "metadata": {
      "application/json": {
       "expanded": false,
       "root": "root"
      }
     },
     "output_type": "execute_result"
    }
   ],
   "source": [
    "JSON(Journey)"
   ]
  },
  {
   "cell_type": "markdown",
   "metadata": {},
   "source": [
    "## Task\n",
    "How many BikePoints in London are operated by Transfor for London? How many docks are in **all** BikePoints? There is the information for empty and full docks for each BikePoint."
   ]
  },
  {
   "cell_type": "code",
   "execution_count": 13,
   "metadata": {},
   "outputs": [
    {
     "name": "stdout",
     "output_type": "stream",
     "text": [
      "There are a total of 792 BikePoints in London.\n",
      "Of which there are a total 21056 docks.\n"
     ]
    }
   ],
   "source": [
    "url_append = '/BikePoint'   \n",
    "res = re.get(url+url_append)\n",
    "BikePoint = res.json()\n",
    "\n",
    "nBikePoints = 0\n",
    "nDocks = 0\n",
    "for i in BikePoint:\n",
    "    nBikePoints += 1\n",
    "    nDocks += int(i['additionalProperties'][-1]['value'])\n",
    "\n",
    "print(f'There are a total of {nBikePoints} BikePoints in London.')\n",
    "print(f'Of which there are a total {nDocks} docks.')\n",
    "\n",
    "\n",
    "\n"
   ]
  },
  {
   "cell_type": "markdown",
   "metadata": {},
   "source": [
    "## Task\n",
    "How many tube and bus lines are in London? Print names of all tube lines."
   ]
  },
  {
   "cell_type": "code",
   "execution_count": 14,
   "metadata": {},
   "outputs": [
    {
     "name": "stdout",
     "output_type": "stream",
     "text": [
      "There are 679 bus lines in London\n",
      "There are 11 tube lines in London. The names are:\n",
      "Bakerloo, Central, Circle, District, Hammersmith & City, Jubilee, Metropolitan, Northern, Piccadilly, Victoria, Waterloo & City\n"
     ]
    }
   ],
   "source": [
    "url_append1 = f'/Line/Mode/bus/Route' \n",
    "res = re.get(url+url_append1)\n",
    "busLines = res.json()\n",
    "nbuses = 0 \n",
    "\n",
    "for i in busLines:\n",
    "    nbuses += 1\n",
    "    \n",
    "print(f'There are {nbuses} bus lines in London')\n",
    "\n",
    "\n",
    "url_append2 = f'/Line/Mode/tube/Route' \n",
    "res = re.get(url+url_append2)\n",
    "tubeLines = res.json()\n",
    "ntubes = 0\n",
    "tubeNames = []\n",
    "\n",
    "for i in tubeLines:\n",
    "    ntubes += 1\n",
    "    tubeNames.append(i['name'])\n",
    "\n",
    "print(f'There are {ntubes} tube lines in London. The names are:')\n",
    "print(\", \".join(tubeNames))\n"
   ]
  },
  {
   "cell_type": "code",
   "execution_count": null,
   "metadata": {},
   "outputs": [],
   "source": [
    "#JSON(tubeLines)"
   ]
  },
  {
   "cell_type": "markdown",
   "metadata": {},
   "source": [
    "## Task\n",
    "How many station has `victoria` line?"
   ]
  },
  {
   "cell_type": "code",
   "execution_count": 15,
   "metadata": {},
   "outputs": [
    {
     "name": "stdout",
     "output_type": "stream",
     "text": [
      "There are 16 stations on the Victoria line\n"
     ]
    }
   ],
   "source": [
    "url_append = '/Line/victoria/StopPoints'\n",
    "res = re.get(url+url_append)\n",
    "victoria = res.json()\n",
    "stations = len(victoria)\n",
    "print(f'There are {stations} stations on the Victoria line')\n"
   ]
  },
  {
   "cell_type": "code",
   "execution_count": 17,
   "metadata": {},
   "outputs": [],
   "source": [
    "#JSON(victoria)"
   ]
  },
  {
   "cell_type": "code",
   "execution_count": 18,
   "metadata": {},
   "outputs": [
    {
     "name": "stdout",
     "output_type": "stream",
     "text": [
      "Blackhorse Road Underground Station\n",
      "Brixton Underground Station\n",
      "Euston Underground Station\n",
      "Finsbury Park Underground Station\n",
      "Green Park Underground Station\n",
      "Highbury & Islington Underground Station\n",
      "King's Cross St. Pancras Underground Station\n",
      "Oxford Circus Underground Station\n",
      "Pimlico Underground Station\n",
      "Stockwell Underground Station\n",
      "Seven Sisters Underground Station\n",
      "Tottenham Hale Underground Station\n",
      "Victoria Underground Station\n",
      "Vauxhall Underground Station\n",
      "Warren Street Underground Station\n",
      "Walthamstow Central Underground Station\n"
     ]
    }
   ],
   "source": [
    "stnNames = []\n",
    "for i in victoria:\n",
    "    stnNames.append(i['commonName'])\n",
    "print('\\n'.join(stnNames))"
   ]
  },
  {
   "cell_type": "markdown",
   "metadata": {},
   "source": [
    "## Task\n",
    "Plan the journey from Heathrow Airport to Tower Bridge using Bus and Tube? Which way is faster? Example output:\n",
    "```\n",
    "Planned duration:\n",
    "Bus: x minutes\n",
    "Tube: y minutes\n",
    "```\n",
    "\n",
    "We need to search the documentation for correct requests and parameters we need."
   ]
  },
  {
   "cell_type": "code",
   "execution_count": 21,
   "metadata": {},
   "outputs": [],
   "source": [
    "# Heathrow Airport is on the Piccadilly tube line -- arrivals @ terminal 5\n",
    "    # originationName:\"Heathrow Terminal 5 Underground Station\"\n",
    "# Tower Bridge is serviced by Tower Hill station (seven-minute walk from Tower Bridge)\n",
    "    # from the District, and Circle tube lines\n",
    "\n",
    "    \n",
    "# Tube starting at Heathrow Airport -- Piccadilly Line\n",
    "url_append1 = f'/Line/piccadilly/StopPoints' \n",
    "res = re.get(url+url_append1)\n",
    "piccadilly = res.json()\n",
    "#call_json(piccadilly, '/Line/piccadilly/StopPoints')\n",
    "airportTube = piccadilly[20] # \"Heathrow Terminal 5 Underground Station\"\n",
    "airportTube_coords = airportTube['naptanId']\n",
    "\n",
    "# Tube transferred to get to Tower Bridge -- Distrcit Line\n",
    "url_append2 = f'/Line/district/StopPoints' \n",
    "res = re.get(url+url_append2)\n",
    "district = res.json()\n",
    "#call_json(district, '/Line/district/StopPoints')\n",
    "bridgeTube = district[47] # \"Tower Hill Underground Station\"\n",
    "bridgeTube_coords = bridgeTube['naptanId']\n",
    "\n",
    "# tube journey airport to transfer point\n",
    "url_append3 = f'/Journey/JourneyResults/{airportTube_coords}/to/{bridgeTube_coords}?date=20210305&time=0700&timels=Departing&journeyPreference=LeastTime&mode=tube'\n",
    "res = re.get(url + url_append3)\n",
    "tube7Length =  res.json()\n",
    "\n",
    "url_append4 = f'/Journey/JourneyResults/{airportTube_coords}/to/{bridgeTube_coords}?date=20210305&time=1000&timels=Departing&journeyPreference=LeastTime&mode=tube'\n",
    "res = re.get(url + url_append4)\n",
    "tube10Length =  res.json()\n",
    "\n",
    "url_append5 = f'/Journey/JourneyResults/{airportTube_coords}/to/{bridgeTube_coords}?date=20210305&time=1500&timels=Departing&journeyPreference=LeastTime&mode=tube'\n",
    "res = re.get(url + url_append5)\n",
    "tube15Length =  res.json()\n",
    "\n",
    "url_append6 = f'/Journey/JourneyResults/{airportTube_coords}/to/{bridgeTube_coords}?date=20210305&time=1800&timels=Departing&journeyPreference=LeastTime&mode=tube'\n",
    "res = re.get(url + url_append6)\n",
    "tube18Length =  res.json()\n",
    "#tubeStopPoints = [\"Heathrow Terminal 5 Underground Station\"]\n",
    "#for i in tubeLength['journeys']:\n",
    "#    for j in i['legs']:\n",
    "#        tubeStopPoints.append(j['arrivalPoint']['commonName'])\n",
    "#tubeStopPoints\n",
    "\n",
    "\n",
    "duration = {\n",
    "    7 : tube7Length['journeys'][1]['duration'], # 65 min\n",
    "    10 : tube10Length['journeys'][0]['duration'], # 64 min SHORTEST\n",
    "    15 : tube15Length['journeys'][2]['duration'], # 65 min\n",
    "    18 : tube18Length['journeys'][1]['duration'] # 66 min\n",
    "}\n",
    "\n",
    "tube_7 = []\n",
    "for i in tube7Length['journeys'][1]['legs']:\n",
    "    tubes7 = {\n",
    "        'departing:' : i['departureTime'],\n",
    "        'from' : i['departurePoint']['commonName'],\n",
    "        'arriving' : i['arrivalTime'],\n",
    "        'to' : i['arrivalPoint']['commonName']\n",
    "        }\n",
    "    tube_7.append(tubes7)\n",
    "tube_10 = []\n",
    "for i in tube10Length['journeys'][0]['legs']:\n",
    "    tubes10 = {\n",
    "        'departing:' : i['departureTime'],\n",
    "        'from' : i['departurePoint']['commonName'],\n",
    "        'arriving' : i['arrivalTime'],\n",
    "        'to' : i['arrivalPoint']['commonName']\n",
    "        }\n",
    "    tube_10.append(tubes10)\n",
    "tube_15 = []\n",
    "for i in tube15Length['journeys'][2]['legs']:\n",
    "    tubes15 = {\n",
    "        'departing:' : i['departureTime'],\n",
    "        'from' : i['departurePoint']['commonName'],\n",
    "        'arriving' : i['arrivalTime'],\n",
    "        'to' : i['arrivalPoint']['commonName']\n",
    "        }\n",
    "    tube_15.append(tubes15)\n",
    "tube_18 = []\n",
    "for i in tube18Length['journeys'][1]['legs']:\n",
    "    tubes18 = {\n",
    "        'departing:' : i['departureTime'],\n",
    "        'from' : i['departurePoint']['commonName'],\n",
    "        'arriving' : i['arrivalTime'],\n",
    "        'to' : i['arrivalPoint']['commonName']\n",
    "        }\n",
    "    tube_18.append(tubes18)\n",
    "#JSON(tube10Length['journeys'])"
   ]
  },
  {
   "cell_type": "code",
   "execution_count": 27,
   "metadata": {},
   "outputs": [
    {
     "data": {
      "text/plain": [
       "{7: 65, 10: 64, 15: 65, 18: 66}"
      ]
     },
     "execution_count": 27,
     "metadata": {},
     "output_type": "execute_result"
    }
   ],
   "source": [
    "duration"
   ]
  },
  {
   "cell_type": "code",
   "execution_count": 23,
   "metadata": {},
   "outputs": [
    {
     "data": {
      "text/plain": [
       "[{'departing:': '2021-03-05T07:04:00',\n",
       "  'from': 'Heathrow Terminal 5 Underground Station',\n",
       "  'arriving': '2021-03-05T07:37:00',\n",
       "  'to': 'Hammersmith (Dist&Picc Line) Underground Station'},\n",
       " {'departing:': '2021-03-05T07:38:00',\n",
       "  'from': 'Hammersmith (Dist&Picc Line) Underground Station',\n",
       "  'arriving': '2021-03-05T08:09:00',\n",
       "  'to': 'Tower Hill Underground Station'}]"
      ]
     },
     "execution_count": 23,
     "metadata": {},
     "output_type": "execute_result"
    }
   ],
   "source": [
    "tube_7"
   ]
  },
  {
   "cell_type": "code",
   "execution_count": 24,
   "metadata": {},
   "outputs": [
    {
     "data": {
      "text/plain": [
       "[{'departing:': '2021-03-05T09:54:00',\n",
       "  'from': 'Heathrow Terminal 5 Underground Station',\n",
       "  'arriving': '2021-03-05T10:28:00',\n",
       "  'to': 'Hammersmith (Dist&Picc Line) Underground Station'},\n",
       " {'departing:': '2021-03-05T10:29:00',\n",
       "  'from': 'Hammersmith (Dist&Picc Line) Underground Station',\n",
       "  'arriving': '2021-03-05T10:58:00',\n",
       "  'to': 'Tower Hill Underground Station'}]"
      ]
     },
     "execution_count": 24,
     "metadata": {},
     "output_type": "execute_result"
    }
   ],
   "source": [
    "tube_10"
   ]
  },
  {
   "cell_type": "code",
   "execution_count": 25,
   "metadata": {},
   "outputs": [
    {
     "data": {
      "text/plain": [
       "[{'departing:': '2021-03-05T15:14:00',\n",
       "  'from': 'Heathrow Terminal 5 Underground Station',\n",
       "  'arriving': '2021-03-05T15:48:00',\n",
       "  'to': 'Hammersmith (Dist&Picc Line) Underground Station'},\n",
       " {'departing:': '2021-03-05T15:49:00',\n",
       "  'from': 'Hammersmith (Dist&Picc Line) Underground Station',\n",
       "  'arriving': '2021-03-05T16:19:00',\n",
       "  'to': 'Tower Hill Underground Station'}]"
      ]
     },
     "execution_count": 25,
     "metadata": {},
     "output_type": "execute_result"
    }
   ],
   "source": [
    "tube_15"
   ]
  },
  {
   "cell_type": "code",
   "execution_count": 26,
   "metadata": {},
   "outputs": [
    {
     "data": {
      "text/plain": [
       "[{'departing:': '2021-03-05T18:04:00',\n",
       "  'from': 'Heathrow Terminal 5 Underground Station',\n",
       "  'arriving': '2021-03-05T18:38:00',\n",
       "  'to': 'Hammersmith (Dist&Picc Line) Underground Station'},\n",
       " {'departing:': '2021-03-05T18:39:00',\n",
       "  'from': 'Hammersmith (Dist&Picc Line) Underground Station',\n",
       "  'arriving': '2021-03-05T19:10:00',\n",
       "  'to': 'Tower Hill Underground Station'}]"
      ]
     },
     "execution_count": 26,
     "metadata": {},
     "output_type": "execute_result"
    }
   ],
   "source": [
    "tube_18"
   ]
  },
  {
   "cell_type": "code",
   "execution_count": 28,
   "metadata": {},
   "outputs": [],
   "source": [
    "# bus checks\n",
    "url_append7 = f'/Journey/JourneyResults/{airportTube_coords}/to/{bridgeTube_coords}?date=20210306&time=0700&timels=Departing&journeyPreference=LeastTime&mode=bus'\n",
    "res = re.get(url + url_append7)\n",
    "bus7Length =  res.json()\n",
    "\n",
    "url_append8 = f'/Journey/JourneyResults/{airportTube_coords}/to/{bridgeTube_coords}?date=20210306&time=1000&timels=Departing&journeyPreference=LeastTime&mode=bus'\n",
    "res = re.get(url + url_append8)\n",
    "bus10Length =  res.json()\n",
    "\n",
    "url_append9 = f'/Journey/JourneyResults/{airportTube_coords}/to/{bridgeTube_coords}?date=20210306&time=1500&timels=Departing&journeyPreference=LeastTime&mode=bus'\n",
    "res = re.get(url + url_append9)\n",
    "bus15Length =  res.json()\n",
    "\n",
    "url_append10 = f'/Journey/JourneyResults/{airportTube_coords}/to/{bridgeTube_coords}?date=20210306&time=1800&timels=Departing&journeyPreference=LeastTime&mode=bus'\n",
    "res = re.get(url + url_append10)\n",
    "bus18Length = res.json()\n"
   ]
  },
  {
   "cell_type": "code",
   "execution_count": 43,
   "metadata": {},
   "outputs": [
    {
     "data": {
      "application/json": {
       "$type": "Tfl.Api.Presentation.Entities.JourneyPlanner.Journey, Tfl.Api.Presentation.Entities",
       "arrivalDateTime": "2021-03-06T20:32:00",
       "duration": 152,
       "legs": [
        {
         "$type": "Tfl.Api.Presentation.Entities.JourneyPlanner.Leg, Tfl.Api.Presentation.Entities",
         "arrivalPoint": {
          "$type": "Tfl.Api.Presentation.Entities.StopPoint, Tfl.Api.Presentation.Entities",
          "additionalProperties": [],
          "commonName": "Hounslow West Stn  / Vicarage Farm Rd",
          "icsCode": "1000404",
          "lat": 51.47367522125,
          "lon": -0.38662343926000003,
          "naptanId": "490G000053",
          "placeType": "StopPoint",
          "platformName": "D",
          "stopLetter": "D"
         },
         "arrivalTime": "2021-03-06T18:30:00",
         "departurePoint": {
          "$type": "Tfl.Api.Presentation.Entities.StopPoint, Tfl.Api.Presentation.Entities",
          "additionalProperties": [],
          "commonName": "Heathrow Terminal 5",
          "icsCode": "1016430",
          "lat": 51.472034603720004,
          "lon": -0.48961646392,
          "naptanId": "910GHTRBUS5",
          "placeType": "StopPoint",
          "platformName": "7"
         },
         "departureTime": "2021-03-06T18:00:00",
         "disruptions": [],
         "duration": 30,
         "hasFixedLocations": true,
         "instruction": {
          "$type": "Tfl.Api.Presentation.Entities.Instruction, Tfl.Api.Presentation.Entities",
          "detailed": "482 bus towards Southall, Town Hall",
          "steps": [],
          "summary": "482 bus to Hounslow West Station / Vicarage Farm Road"
         },
         "isDisrupted": false,
         "mode": {
          "$type": "Tfl.Api.Presentation.Entities.Identifier, Tfl.Api.Presentation.Entities",
          "id": "bus",
          "name": "bus",
          "routeType": "Unknown",
          "status": "Unknown",
          "type": "Mode"
         },
         "obstacles": [],
         "path": {
          "$type": "Tfl.Api.Presentation.Entities.JourneyPlanner.Path, Tfl.Api.Presentation.Entities",
          "elevation": [],
          "lineString": "[[51.47203482005, -0.48969100613],[51.47024628639, -0.48970431158],[51.47011220204, -0.48976633025],[51.46976184039, -0.48979229579],[51.46957604956, -0.49002879281],[51.46958105241, -0.4904173652],[51.4695020095, -0.4905639504],[51.46942778179, -0.49108471478],[51.46835834837, -0.49113438882],[51.46653648162, -0.49141043092],[51.46618778541, -0.49156589587],[51.46471979557, -0.49208937098],[51.46447710871, -0.49209736984],[51.46417919605, -0.4920064169],[51.46389759443, -0.49178536438],[51.46346292026, -0.49084957338],[51.46342984256, -0.49037560474],[51.46331948094, -0.48948671182],[51.46308883855, -0.48903366585],[51.46285421324, -0.48896943638],[51.46240423733, -0.48894111075],[51.46232260007, -0.48888622528],[51.46201874982, -0.48833484346],[51.461629883, -0.48607325131],[51.46156285227, -0.47742396912],[51.46129716066, -0.47635317805],[51.46082996572, -0.47569217263],[51.46031201808, -0.47527758348],[51.45922106543, -0.47367296823],[51.45880028926, -0.4724346978],[51.45845227862, -0.46919322327],[51.45834661048, -0.46798764688],[51.45877098283, -0.4679960769],[51.45877098283, -0.4679960769],[51.45834661048, -0.46798764688],[51.45762804759, -0.46049805496],[51.45867128288, -0.46045276867],[51.45867128288, -0.46045276867],[51.45762804759, -0.46049805496],[51.45745294354, -0.45880546393],[51.45688269355, -0.45578759029],[51.45684018518, -0.45460873899],[51.45691861418, -0.45441897163],[51.45686183967, -0.4542049831],[51.45650890223, -0.45335328727],[51.45609690167, -0.45211497721],[51.4560623944, -0.45086391082],[51.45629857565, -0.44926744338],[51.45629857565, -0.44926744338],[51.45635130496, -0.4489109972],[51.45643680932, -0.44857704605],[51.45659231438, -0.44809678337],[51.45682699705, -0.44748428784],[51.4571402834, -0.44669639215],[51.45759070034, -0.44540003918],[51.45786439295, -0.44433997429],[51.458115872, -0.44431703084],[51.45823577285, -0.44454326153],[51.45822027754, -0.44473091257],[51.4579770029, -0.44537252133],[51.45783795997, -0.44573709649],[51.4577277872, -0.44624462928],[51.45805190566, -0.44695333017],[51.45830910175, -0.44736203302],[51.4585167835, -0.4474269576],[51.45866653485, -0.44719156761],[51.45865640334, -0.44710554554],[51.45900762536, -0.44659467453],[51.45900762536, -0.44659467453],[51.45967978145, -0.44561695662],[51.45983124588, -0.44551104854],[51.45985649368, -0.44538063857],[51.45979970268, -0.44516664796],[51.45931244941, -0.44436271691],[51.4590037958, -0.44414289934],[51.4587798542, -0.44420809108],[51.45845799672, -0.44434858238],[51.45834000459, -0.44426622837],[51.45814667005, -0.44392734159],[51.45816407363, -0.44388356729],[51.45799560164, -0.44338550253],[51.45843756124, -0.44280909252],[51.45884413851, -0.4422770589],[51.45895085002, -0.44218705973],[51.45906960813, -0.44232696117],[51.45930846637, -0.44203093956],[51.45962611413, -0.44157389077],[51.45990611569, -0.44097666546],[51.45990611569, -0.44097666546],[51.45997588663, -0.44082784636],[51.46006136756, -0.440493854],[51.4600957679, -0.43902441437],[51.46018563317, -0.43834479273],[51.46162244602, -0.43482649448],[51.46227027656, -0.4335087405],[51.46501350296, -0.42683568312],[51.46572068008, -0.42525653524],[51.46645412832, -0.42429549523],[51.46677441274, -0.42403971564],[51.46679634794, -0.42366464029],[51.46718950317, -0.42347832797],[51.46728411546, -0.42315833186],[51.46719268623, -0.4230463072],[51.46696112414, -0.42321265639],[51.46680398184, -0.42356359884],[51.46680398184, -0.42356359884],[51.46679634794, -0.42366464029],[51.46677441274, -0.42403971564],[51.46758594729, -0.42353665071],[51.46762411532, -0.42303143433],[51.46764991841, -0.42294416171],[51.46742076388, -0.42262092847],[51.46700343915, -0.42234737921],[51.46686087167, -0.42177641875],[51.46717146242, -0.42080110199],[51.46740406076, -0.42004442259],[51.46952126552, -0.41301716446],[51.46970423386, -0.41240721088],[51.46970423386, -0.41240721088],[51.46982240443, -0.41201326249],[51.47006373825, -0.41124179211],[51.47021830748, -0.41070369686],[51.47097137993, -0.40854658885],[51.47107572036, -0.40828378925],[51.4713197653, -0.4077137602],[51.47190162975, -0.40619605446],[51.47208333519, -0.40567137273],[51.47210052852, -0.40561317895],[51.4721698887, -0.40542357881],[51.4723431899, -0.40494238003],[51.47271468006, -0.4038144675],[51.47271468006, -0.4038144675],[51.47307719819, -0.40271374589],[51.47322450452, -0.40230543006],[51.47333624966, -0.40192715222],[51.47381920787, -0.40048638923],[51.47381920787, -0.40048638923],[51.47434720655, -0.39891116534],[51.47444648526, -0.39862218196],[51.47444648526, -0.39862218196],[51.47463260621, -0.3980804066],[51.47495198456, -0.39710445132],[51.47514204618, -0.39653620591],[51.47529812173, -0.39611314412],[51.47541378425, -0.39602268953],[51.4754683027, -0.39606397637],[51.47562090143, -0.3960442244],[51.47570061199, -0.39595503005],[51.47575001122, -0.3956221025],[51.47572166884, -0.3955222985],[51.47569450799, -0.39550885171],[51.47551238525, -0.39534244527],[51.47535092223, -0.39471452635],[51.47526589255, -0.39441511906],[51.47509721084, -0.3939170564],[51.47497228372, -0.39333106303],[51.47485752523, -0.39283111243],[51.47467649426, -0.39208870357],[51.47440862073, -0.39108603012],[51.47440862073, -0.39108603012],[51.47430681304, -0.3907049667],[51.47408882888, -0.38989187964],[51.47392812772, -0.38932156904],[51.47352226457, -0.38792475294],[51.47348433416, -0.38778209924],[51.47316587878, -0.38685739222],[51.47365917403, -0.3865560776]]",
          "stopPoints": [
           {
            "$type": "Tfl.Api.Presentation.Entities.Identifier, Tfl.Api.Presentation.Entities",
            "id": "490G00015440",
            "name": "Stirling Road",
            "routeType": "Unknown",
            "status": "Unknown",
            "type": "StopPoint",
            "uri": "/StopPoint/490G00015440"
           },
           {
            "$type": "Tfl.Api.Presentation.Entities.Identifier, Tfl.Api.Presentation.Entities",
            "id": "490G00004355",
            "name": "Cargo Centre",
            "routeType": "Unknown",
            "status": "Unknown",
            "type": "StopPoint",
            "uri": "/StopPoint/490G00004355"
           },
           {
            "$type": "Tfl.Api.Presentation.Entities.Identifier, Tfl.Api.Presentation.Entities",
            "id": "490G00011963",
            "name": "Scylla Road",
            "routeType": "Unknown",
            "status": "Unknown",
            "type": "StopPoint",
            "uri": "/StopPoint/490G00011963"
           },
           {
            "$type": "Tfl.Api.Presentation.Entities.Identifier, Tfl.Api.Presentation.Entities",
            "id": "490G00104A",
            "name": "Heathrow Terminal 4",
            "routeType": "Unknown",
            "status": "Unknown",
            "type": "StopPoint",
            "uri": "/StopPoint/490G00104A"
           },
           {
            "$type": "Tfl.Api.Presentation.Entities.Identifier, Tfl.Api.Presentation.Entities",
            "id": "490G000002",
            "name": "Starlight Way",
            "routeType": "Unknown",
            "status": "Unknown",
            "type": "StopPoint",
            "uri": "/StopPoint/490G000002"
           },
           {
            "$type": "Tfl.Api.Presentation.Entities.Identifier, Tfl.Api.Presentation.Entities",
            "id": "490G00103G",
            "name": "Hatton Cross Station",
            "routeType": "Unknown",
            "status": "Unknown",
            "type": "StopPoint",
            "uri": "/StopPoint/490G00103G"
           },
           {
            "$type": "Tfl.Api.Presentation.Entities.Identifier, Tfl.Api.Presentation.Entities",
            "id": "490G00007196",
            "name": "Girling Way",
            "routeType": "Unknown",
            "status": "Unknown",
            "type": "StopPoint",
            "uri": "/StopPoint/490G00007196"
           },
           {
            "$type": "Tfl.Api.Presentation.Entities.Identifier, Tfl.Api.Presentation.Entities",
            "id": "490G00013285",
            "name": "The Parkway",
            "routeType": "Unknown",
            "status": "Unknown",
            "type": "StopPoint",
            "uri": "/StopPoint/490G00013285"
           },
           {
            "$type": "Tfl.Api.Presentation.Entities.Identifier, Tfl.Api.Presentation.Entities",
            "id": "490G00007370",
            "name": "Grantley Road",
            "routeType": "Unknown",
            "status": "Unknown",
            "type": "StopPoint",
            "uri": "/StopPoint/490G00007370"
           },
           {
            "$type": "Tfl.Api.Presentation.Entities.Identifier, Tfl.Api.Presentation.Entities",
            "id": "490G00015462",
            "name": "Henlys Roundabout",
            "routeType": "Unknown",
            "status": "Unknown",
            "type": "StopPoint",
            "uri": "/StopPoint/490G00015462"
           },
           {
            "$type": "Tfl.Api.Presentation.Entities.Identifier, Tfl.Api.Presentation.Entities",
            "id": "490G000040",
            "name": "Great West Road / Renfrew Road",
            "routeType": "Unknown",
            "status": "Unknown",
            "type": "StopPoint",
            "uri": "/StopPoint/490G000040"
           },
           {
            "$type": "Tfl.Api.Presentation.Entities.Identifier, Tfl.Api.Presentation.Entities",
            "id": "490G000053",
            "name": "Hounslow West Stn  / Vicarage Farm Rd",
            "routeType": "Unknown",
            "status": "Unknown",
            "type": "StopPoint",
            "uri": "/StopPoint/490G000053"
           }
          ]
         },
         "plannedWorks": [],
         "routeOptions": [
          {
           "$type": "Tfl.Api.Presentation.Entities.JourneyPlanner.RouteOption, Tfl.Api.Presentation.Entities",
           "directions": [
            "Southall, Town Hall"
           ],
           "lineIdentifier": {
            "$type": "Tfl.Api.Presentation.Entities.Identifier, Tfl.Api.Presentation.Entities",
            "crowding": {
             "$type": "Tfl.Api.Presentation.Entities.Crowding, Tfl.Api.Presentation.Entities"
            },
            "id": "482",
            "name": "482",
            "routeType": "Unknown",
            "status": "Unknown",
            "type": "Line",
            "uri": "/Line/482"
           },
           "name": "482"
          }
         ]
        },
        {
         "$type": "Tfl.Api.Presentation.Entities.JourneyPlanner.Leg, Tfl.Api.Presentation.Entities",
         "arrivalPoint": {
          "$type": "Tfl.Api.Presentation.Entities.StopPoint, Tfl.Api.Presentation.Entities",
          "additionalProperties": [],
          "commonName": "Hammersmith Bus Station",
          "icsCode": "1007705",
          "lat": 51.49259065112,
          "lon": -0.22450195684,
          "naptanId": "490G000565",
          "placeType": "StopPoint",
          "platformName": "",
          "stopLetter": "Z1"
         },
         "arrivalTime": "2021-03-06T19:12:00",
         "departurePoint": {
          "$type": "Tfl.Api.Presentation.Entities.StopPoint, Tfl.Api.Presentation.Entities",
          "additionalProperties": [],
          "commonName": "Hounslow West Stn  / Vicarage Farm Rd",
          "icsCode": "1000404",
          "lat": 51.47367522125,
          "lon": -0.38662343926000003,
          "naptanId": "490G000053",
          "placeType": "StopPoint",
          "platformName": "D",
          "stopLetter": "D"
         },
         "departureTime": "2021-03-06T18:32:00",
         "disruptions": [
          {
           "$type": "Tfl.Api.Presentation.Entities.Disruption, Tfl.Api.Presentation.Entities",
           "additionalInfo": "Further information and a <a href=\"https://tfl.gov.uk/campaign/bus-strike?intcmp=25146\">list of affected routes</a>.",
           "category": "RealTime",
           "categoryDescription": "RealTime",
           "created": "2021-02-26T09:44:00",
           "description": "RATP DEV LONDON STRIKE: RATP Dev London bus services in parts of west, south west and north west London are expected to see disruption on Friday 5, Saturday 6 and Wednesday 10 March, TfL is working hard to minimise potential disruption but customers who need to make journeys are advised to check before they travel. Industrial action will affect services from 00:00 to 23:59 on the respective strike dates and until 06:00 on Sunday 7 March.",
           "lastUpdate": "2021-03-04T21:45:00",
           "summary": "",
           "type": "lineInfo"
          }
         ],
         "duration": 40,
         "hasFixedLocations": true,
         "instruction": {
          "$type": "Tfl.Api.Presentation.Entities.Instruction, Tfl.Api.Presentation.Entities",
          "detailed": "H91 bus towards Hammersmith",
          "steps": [],
          "summary": "H91 bus to Hammersmith Bus Station"
         },
         "isDisrupted": true,
         "mode": {
          "$type": "Tfl.Api.Presentation.Entities.Identifier, Tfl.Api.Presentation.Entities",
          "id": "bus",
          "name": "bus",
          "routeType": "Unknown",
          "status": "Unknown",
          "type": "Mode"
         },
         "obstacles": [],
         "path": {
          "$type": "Tfl.Api.Presentation.Entities.JourneyPlanner.Path, Tfl.Api.Presentation.Entities",
          "elevation": [],
          "lineString": "[[51.47365917403, -0.3865560776],[51.47406653169, -0.38630725001],[51.47477645381, -0.38561982335],[51.47504311938, -0.3853944161],[51.47578898748, -0.38470569046],[51.47629614385, -0.384313377],[51.47642098321, -0.38423696615],[51.47646552619, -0.38420659225],[51.47650590397, -0.38387396481],[51.47657965311, -0.38335295642],[51.47659167836, -0.38325388829],[51.47659167836, -0.38325388829],[51.47666040286, -0.38268769792],[51.47671636943, -0.38218171502],[51.47687924285, -0.38095193974],[51.47693559945, -0.38047473872],[51.47719811746, -0.37849840611],[51.47719811746, -0.37849840611],[51.47727768035, -0.37789937311],[51.47731823927, -0.37758112782],[51.47752221678, -0.37607625287],[51.47774775786, -0.37420580337],[51.47774775786, -0.37420580337],[51.47778031002, -0.37393582087],[51.47796107214, -0.37270534975],[51.47805813825, -0.37192426627],[51.47859989341, -0.36779044431],[51.47859989341, -0.36779044431],[51.47865161717, -0.36739570657],[51.47883849029, -0.36596335567],[51.47897583469, -0.36484958285],[51.47901615723, -0.36451692125],[51.47905748271, -0.36425622751],[51.4791150904, -0.36382072361],[51.4791150904, -0.36382072361],[51.47912255795, -0.36376426932],[51.47920420044, -0.36317091026],[51.47924411628, -0.36280945816],[51.47932575391, -0.36221609593],[51.47987670707, -0.35801693758],[51.47987670707, -0.35801693758],[51.47999208419, -0.35713741796],[51.48007369293, -0.35654403651],[51.48022013695, -0.35544427795],[51.4803430409, -0.35459018136],[51.48062336583, -0.35277992098],[51.48077768107, -0.35186608333],[51.48077768107, -0.35186608333],[51.48085580753, -0.35140340863],[51.48131259654, -0.34935631203],[51.48178671631, -0.34726534217],[51.48185415476, -0.34694606522],[51.48198862305, -0.34627871961],[51.48213414154, -0.34525716848],[51.48213414154, -0.34525716848],[51.48224226175, -0.34449811128],[51.48237147178, -0.34252790987],[51.48237147178, -0.34252790987],[51.48244201382, -0.34145206297],[51.48246409047, -0.34110561463],[51.48249189488, -0.34052852628],[51.48263374719, -0.33773653638],[51.48263374719, -0.33773653638],[51.48268174605, -0.33679150412],[51.48270401309, -0.33645944666],[51.48294217649, -0.3315457228],[51.48294217649, -0.3315457228],[51.4829543537, -0.33129436998],[51.48310172155, -0.32901344393],[51.48316674535, -0.32856720605],[51.48316674535, -0.32856720605],[51.48338021164, -0.32710216284],[51.48348739784, -0.32642133135],[51.48378244146, -0.32504230052],[51.48395175054, -0.32445867902],[51.48395175054, -0.32445867902],[51.48407383051, -0.32403785097],[51.48417674424, -0.32368841693],[51.48466193711, -0.32240318758],[51.48486144401, -0.32189176933],[51.48532192147, -0.32076584123],[51.48534880116, -0.32070108339],[51.48534880116, -0.32070108339],[51.48570438691, -0.31984440033],[51.48625203723, -0.31852798238],[51.48633902344, -0.31832313731],[51.48679089139, -0.31722625972],[51.48744222778, -0.31561788645],[51.4876584386, -0.31501936909],[51.48786730036, -0.31445161829],[51.48786730036, -0.31445161829],[51.48812576626, -0.31374901046],[51.48829951419, -0.31332488855],[51.4884561138, -0.31295901199],[51.4889167108, -0.31184730288],[51.48943039293, -0.3106759922],[51.48956168073, -0.31042626717],[51.48979613177, -0.30971192352],[51.48979613177, -0.30971192352],[51.48994931489, -0.30924518208],[51.49000911425, -0.3090269038],[51.49005218372, -0.30889567052],[51.49088948981, -0.30647351062],[51.49115147056, -0.30530875879],[51.49115147056, -0.30530875879],[51.49137956201, -0.30429462381],[51.49142262609, -0.30416338224],[51.49139212408, -0.30391963155],[51.4914073922, -0.30373180177],[51.49148125364, -0.3020004744],[51.49149906178, -0.30074658724],[51.49150556662, -0.30018133399],[51.49150556662, -0.30018133399],[51.491518954, -0.29901725964],[51.49155303064, -0.29826693589],[51.49151227523, -0.29793714071],[51.4915032601, -0.2948404228],[51.49147167493, -0.29390528313],[51.49146038345, -0.29374725084],[51.49147246948, -0.29272405198],[51.49151884798, -0.29220374259],[51.49157714752, -0.29188465555],[51.4916872839, -0.29157060302],[51.49172595014, -0.29160539941],[51.49245109816, -0.28953275197],[51.49241371045, -0.28949910786],[51.49287215763, -0.28819170067],[51.49300355497, -0.28733686088],[51.49299850833, -0.2869913207],[51.49277096891, -0.28557372336],[51.49266368676, -0.28500153662],[51.49256583788, -0.28465487506],[51.49256583788, -0.28465487506],[51.49239813887, -0.28406075847],[51.4922937994, -0.28369014171],[51.49216333942, -0.28337812832],[51.49178157459, -0.28248495241],[51.49184237806, -0.28233861702],[51.49188913219, -0.2818470882],[51.49187866823, -0.28174664629],[51.49180065085, -0.28133183399],[51.49185955372, -0.28105592311],[51.49195145067, -0.28057709936],[51.49200655137, -0.28004203808],[51.49210923691, -0.27907303044],[51.49213990434, -0.27871174734],[51.49217078201, -0.27836486095],[51.49221209707, -0.27794497883],[51.49221209707, -0.27794497883],[51.49223337999, -0.27772867563],[51.49233932118, -0.2763705946],[51.49239877902, -0.275766214],[51.49239877902, -0.275766214],[51.49243320055, -0.27541630875],[51.49250307544, -0.27466459877],[51.49257811835, -0.27365339623],[51.49262292789, -0.27303227592],[51.49281741517, -0.27158439074],[51.49285039388, -0.27138146829],[51.49288927685, -0.27081196001],[51.49288927685, -0.27081196001],[51.49293913599, -0.27008162581],[51.49294302589, -0.26973574897],[51.49291995266, -0.26939089314],[51.49289730342, -0.26907483236],[51.49268332138, -0.26676368051],[51.49262970516, -0.26557007351],[51.49257967723, -0.2648892199],[51.49257967723, -0.2648892199],[51.49256215017, -0.26465069901],[51.49253373446, -0.26394591932],[51.49245976884, -0.26259463485],[51.49245784915, -0.2624650605],[51.49244867533, -0.26184598325],[51.49244376706, -0.26151484904],[51.49244376706, -0.26151484904],[51.49243949823, -0.26122690633],[51.49244378904, -0.26090982741],[51.49245772438, -0.26003057609],[51.49247206748, -0.25978514044],[51.49250075213, -0.2592942687],[51.49252558682, -0.25854424784],[51.49254014061, -0.25831320857],[51.49255335695, -0.258081421],[51.49255335695, -0.258081421],[51.49260434335, -0.25718714724],[51.49261140499, -0.25705723009],[51.49265933384, -0.25604702882],[51.49270404994, -0.2554258924],[51.49274383456, -0.25447361971],[51.49278105551, -0.25395360451],[51.49282154183, -0.25303651019],[51.49282154183, -0.25303651019],[51.49284156966, -0.25258277979],[51.49285182034, -0.2520637934],[51.49286099545, -0.25147282087],[51.49294632862, -0.25056201359],[51.4929781968, -0.25028709017],[51.49304236096, -0.24976603672],[51.49310624109, -0.24927125674],[51.49310624109, -0.24927125674],[51.49317132725, -0.24876711738],[51.49321217847, -0.248491847],[51.49326842274, -0.24804311957],[51.49332999501, -0.24734929217],[51.49333683054, -0.24720497438],[51.49335582219, -0.24674964397],[51.49335582219, -0.24674964397],[51.4933765482, -0.24625268296],[51.49340259157, -0.24558902656],[51.49343078572, -0.2450693427],[51.49344229608, -0.24463673267],[51.49349098008, -0.24368409191],[51.49353217917, -0.24283257626],[51.49353771467, -0.24260187327],[51.49355928213, -0.24224090282],[51.49355604504, -0.24202494273],[51.49356257862, -0.24126119228],[51.49355890785, -0.24101643763],[51.49353169517, -0.24026828273],[51.49353169517, -0.24026828273],[51.49349768155, -0.23933333615],[51.49348350624, -0.23898814736],[51.49346142383, -0.23871529162],[51.49339733599, -0.23804069864],[51.49332793545, -0.23761120722],[51.49322386253, -0.23714848127],[51.49322386253, -0.23714848127],[51.49316411615, -0.23688284326],[51.49309730929, -0.2366261217],[51.49304804327, -0.23633991294],[51.49294842621, -0.23569551183],[51.4929243376, -0.2352406338],[51.4929243376, -0.2352406338],[51.49292330323, -0.23522110183],[51.49290186215, -0.2349914427],[51.49282919933, -0.23434600505],[51.49322333561, -0.23424434337],[51.49371611418, -0.23412446236],[51.4938862206, -0.23407467163],[51.49406574779, -0.23405332807],[51.49444147566, -0.23392356043],[51.49446419537, -0.23304391988],[51.49447635226, -0.23261636543],[51.49447635226, -0.23261636543],[51.49448182757, -0.23242378229],[51.49447727018, -0.23212143366],[51.49449402903, -0.23144370544],[51.49447613842, -0.23085375392],[51.49447860901, -0.23042147972],[51.49447404646, -0.23011913145],[51.49447404646, -0.23011913145],[51.49446970044, -0.22983118078],[51.49442310102, -0.22912709509],[51.49439033907, -0.22814876168],[51.49439721735, -0.22741379251],[51.49380064483, -0.2266158063],[51.49361282209, -0.22613708873],[51.49361282209, -0.22613708873],[51.49356682039, -0.22601984219],[51.49310749593, -0.22478439212],[51.49302247048, -0.22451399052],[51.49305580336, -0.22433982929],[51.49307884074, -0.22407963476],[51.49310868408, -0.22367512011],[51.49292654222, -0.2235237399],[51.49289669938, -0.22392825301],[51.49283025256, -0.22429097155],[51.49263842032, -0.22468737086],[51.49255235611, -0.22458296959]]",
          "stopPoints": [
           {
            "$type": "Tfl.Api.Presentation.Entities.Identifier, Tfl.Api.Presentation.Entities",
            "id": "490G00014037",
            "name": "Vicarage Farm Road",
            "routeType": "Unknown",
            "status": "Unknown",
            "type": "StopPoint",
            "uri": "/StopPoint/490G00014037"
           },
           {
            "$type": "Tfl.Api.Presentation.Entities.Identifier, Tfl.Api.Presentation.Entities",
            "id": "490G00007436",
            "name": "Greencroft Road",
            "routeType": "Unknown",
            "status": "Unknown",
            "type": "StopPoint",
            "uri": "/StopPoint/490G00007436"
           },
           {
            "$type": "Tfl.Api.Presentation.Entities.Identifier, Tfl.Api.Presentation.Entities",
            "id": "490G00013078",
            "name": "Sutton Lane",
            "routeType": "Unknown",
            "status": "Unknown",
            "type": "StopPoint",
            "uri": "/StopPoint/490G00013078"
           },
           {
            "$type": "Tfl.Api.Presentation.Entities.Identifier, Tfl.Api.Presentation.Entities",
            "id": "490G000347",
            "name": "Lampton School",
            "routeType": "Unknown",
            "status": "Unknown",
            "type": "StopPoint",
            "uri": "/StopPoint/490G000347"
           },
           {
            "$type": "Tfl.Api.Presentation.Entities.Identifier, Tfl.Api.Presentation.Entities",
            "id": "490G00008925",
            "name": "Lampton Road",
            "routeType": "Unknown",
            "status": "Unknown",
            "type": "StopPoint",
            "uri": "/StopPoint/490G00008925"
           },
           {
            "$type": "Tfl.Api.Presentation.Entities.Identifier, Tfl.Api.Presentation.Entities",
            "id": "490G00007524",
            "name": "Gresham Road",
            "routeType": "Unknown",
            "status": "Unknown",
            "type": "StopPoint",
            "uri": "/StopPoint/490G00007524"
           },
           {
            "$type": "Tfl.Api.Presentation.Entities.Identifier, Tfl.Api.Presentation.Entities",
            "id": "490G00171A",
            "name": "Osterley Station",
            "routeType": "Unknown",
            "status": "Unknown",
            "type": "StopPoint",
            "uri": "/StopPoint/490G00171A"
           },
           {
            "$type": "Tfl.Api.Presentation.Entities.Identifier, Tfl.Api.Presentation.Entities",
            "id": "490G00010658",
            "name": "Osterley Library",
            "routeType": "Unknown",
            "status": "Unknown",
            "type": "StopPoint",
            "uri": "/StopPoint/490G00010658"
           },
           {
            "$type": "Tfl.Api.Presentation.Entities.Identifier, Tfl.Api.Presentation.Entities",
            "id": "490G00011577",
            "name": "Ridgeway Road",
            "routeType": "Unknown",
            "status": "Unknown",
            "type": "StopPoint",
            "uri": "/StopPoint/490G00011577"
           },
           {
            "$type": "Tfl.Api.Presentation.Entities.Identifier, Tfl.Api.Presentation.Entities",
            "id": "490G00014873",
            "name": "Wood Lane",
            "routeType": "Unknown",
            "status": "Unknown",
            "type": "StopPoint",
            "uri": "/StopPoint/490G00014873"
           },
           {
            "$type": "Tfl.Api.Presentation.Entities.Identifier, Tfl.Api.Presentation.Entities",
            "id": "490G00012686",
            "name": "St Francis Of Assisi Church",
            "routeType": "Unknown",
            "status": "Unknown",
            "type": "StopPoint",
            "uri": "/StopPoint/490G00012686"
           },
           {
            "$type": "Tfl.Api.Presentation.Entities.Identifier, Tfl.Api.Presentation.Entities",
            "id": "490G00007179",
            "name": "Gillette Corner",
            "routeType": "Unknown",
            "status": "Unknown",
            "type": "StopPoint",
            "uri": "/StopPoint/490G00007179"
           },
           {
            "$type": "Tfl.Api.Presentation.Entities.Identifier, Tfl.Api.Presentation.Entities",
            "id": "490G00014416",
            "name": "West Cross Centre",
            "routeType": "Unknown",
            "status": "Unknown",
            "type": "StopPoint",
            "uri": "/StopPoint/490G00014416"
           },
           {
            "$type": "Tfl.Api.Presentation.Entities.Identifier, Tfl.Api.Presentation.Entities",
            "id": "490G00014417",
            "name": "West Cross Way",
            "routeType": "Unknown",
            "status": "Unknown",
            "type": "StopPoint",
            "uri": "/StopPoint/490G00014417"
           },
           {
            "$type": "Tfl.Api.Presentation.Entities.Identifier, Tfl.Api.Presentation.Entities",
            "id": "490G00007421",
            "name": "Boston Manor Road",
            "routeType": "Unknown",
            "status": "Unknown",
            "type": "StopPoint",
            "uri": "/StopPoint/490G00007421"
           },
           {
            "$type": "Tfl.Api.Presentation.Entities.Identifier, Tfl.Api.Presentation.Entities",
            "id": "490G00014772",
            "name": "Windmill Road",
            "routeType": "Unknown",
            "status": "Unknown",
            "type": "StopPoint",
            "uri": "/StopPoint/490G00014772"
           },
           {
            "$type": "Tfl.Api.Presentation.Entities.Identifier, Tfl.Api.Presentation.Entities",
            "id": "490G00006300",
            "name": "Ealing Road",
            "routeType": "Unknown",
            "status": "Unknown",
            "type": "StopPoint",
            "uri": "/StopPoint/490G00006300"
           },
           {
            "$type": "Tfl.Api.Presentation.Entities.Identifier, Tfl.Api.Presentation.Entities",
            "id": "490G00005378",
            "name": "Clayponds Avenue",
            "routeType": "Unknown",
            "status": "Unknown",
            "type": "StopPoint",
            "uri": "/StopPoint/490G00005378"
           },
           {
            "$type": "Tfl.Api.Presentation.Entities.Identifier, Tfl.Api.Presentation.Entities",
            "id": "490G00009200",
            "name": "Lionel Road",
            "routeType": "Unknown",
            "status": "Unknown",
            "type": "StopPoint",
            "uri": "/StopPoint/490G00009200"
           },
           {
            "$type": "Tfl.Api.Presentation.Entities.Identifier, Tfl.Api.Presentation.Entities",
            "id": "490G00014010",
            "name": "Vantage West",
            "routeType": "Unknown",
            "status": "Unknown",
            "type": "StopPoint",
            "uri": "/StopPoint/490G00014010"
           },
           {
            "$type": "Tfl.Api.Presentation.Entities.Identifier, Tfl.Api.Presentation.Entities",
            "id": "490G00007605",
            "name": "Chiswick Roundabout / Gunnersbury",
            "routeType": "Unknown",
            "status": "Unknown",
            "type": "StopPoint",
            "uri": "/StopPoint/490G00007605"
           },
           {
            "$type": "Tfl.Api.Presentation.Entities.Identifier, Tfl.Api.Presentation.Entities",
            "id": "490G000750",
            "name": "Thorney Hedge Road",
            "routeType": "Unknown",
            "status": "Unknown",
            "type": "StopPoint",
            "uri": "/StopPoint/490G000750"
           },
           {
            "$type": "Tfl.Api.Presentation.Entities.Identifier, Tfl.Api.Presentation.Entities",
            "id": "490G00094B",
            "name": "Gunnersbury Station",
            "routeType": "Unknown",
            "status": "Unknown",
            "type": "StopPoint",
            "uri": "/StopPoint/490G00094B"
           },
           {
            "$type": "Tfl.Api.Presentation.Entities.Identifier, Tfl.Api.Presentation.Entities",
            "id": "490G00005211",
            "name": "Chiswick Road",
            "routeType": "Unknown",
            "status": "Unknown",
            "type": "StopPoint",
            "uri": "/StopPoint/490G00005211"
           },
           {
            "$type": "Tfl.Api.Presentation.Entities.Identifier, Tfl.Api.Presentation.Entities",
            "id": "490G000807",
            "name": "Turnham Green Church",
            "routeType": "Unknown",
            "status": "Unknown",
            "type": "StopPoint",
            "uri": "/StopPoint/490G000807"
           },
           {
            "$type": "Tfl.Api.Presentation.Entities.Identifier, Tfl.Api.Presentation.Entities",
            "id": "490G00005423",
            "name": "Clifton Gardens",
            "routeType": "Unknown",
            "status": "Unknown",
            "type": "StopPoint",
            "uri": "/StopPoint/490G00005423"
           },
           {
            "$type": "Tfl.Api.Presentation.Entities.Identifier, Tfl.Api.Presentation.Entities",
            "id": "490G00005210",
            "name": "Chiswick Police Station",
            "routeType": "Unknown",
            "status": "Unknown",
            "type": "StopPoint",
            "uri": "/StopPoint/490G00005210"
           },
           {
            "$type": "Tfl.Api.Presentation.Entities.Identifier, Tfl.Api.Presentation.Entities",
            "id": "490G00013850",
            "name": "Chiswick Lane",
            "routeType": "Unknown",
            "status": "Unknown",
            "type": "StopPoint",
            "uri": "/StopPoint/490G00013850"
           },
           {
            "$type": "Tfl.Api.Presentation.Entities.Identifier, Tfl.Api.Presentation.Entities",
            "id": "490G00012521",
            "name": "Stamford Brook Bus Garage",
            "routeType": "Unknown",
            "status": "Unknown",
            "type": "StopPoint",
            "uri": "/StopPoint/490G00012521"
           },
           {
            "$type": "Tfl.Api.Presentation.Entities.Identifier, Tfl.Api.Presentation.Entities",
            "id": "490G000535",
            "name": "Goldhawk Road / Young's Corner",
            "routeType": "Unknown",
            "status": "Unknown",
            "type": "StopPoint",
            "uri": "/StopPoint/490G000535"
           },
           {
            "$type": "Tfl.Api.Presentation.Entities.Identifier, Tfl.Api.Presentation.Entities",
            "id": "490G00012533",
            "name": "Ravenscourt Park",
            "routeType": "Unknown",
            "status": "Unknown",
            "type": "StopPoint",
            "uri": "/StopPoint/490G00012533"
           },
           {
            "$type": "Tfl.Api.Presentation.Entities.Identifier, Tfl.Api.Presentation.Entities",
            "id": "490G00188A",
            "name": "Ravenscourt Park Station",
            "routeType": "Unknown",
            "status": "Unknown",
            "type": "StopPoint",
            "uri": "/StopPoint/490G00188A"
           },
           {
            "$type": "Tfl.Api.Presentation.Entities.Identifier, Tfl.Api.Presentation.Entities",
            "id": "490G00005937",
            "name": "Dalling Road",
            "routeType": "Unknown",
            "status": "Unknown",
            "type": "StopPoint",
            "uri": "/StopPoint/490G00005937"
           },
           {
            "$type": "Tfl.Api.Presentation.Entities.Identifier, Tfl.Api.Presentation.Entities",
            "id": "490G00015588",
            "name": "Lamington Street",
            "routeType": "Unknown",
            "status": "Unknown",
            "type": "StopPoint",
            "uri": "/StopPoint/490G00015588"
           },
           {
            "$type": "Tfl.Api.Presentation.Entities.Identifier, Tfl.Api.Presentation.Entities",
            "id": "490G00007239",
            "name": "Iffley Road",
            "routeType": "Unknown",
            "status": "Unknown",
            "type": "StopPoint",
            "uri": "/StopPoint/490G00007239"
           },
           {
            "$type": "Tfl.Api.Presentation.Entities.Identifier, Tfl.Api.Presentation.Entities",
            "id": "490G00097T",
            "name": "Hammersmith Stn / H&C and Circle Lines",
            "routeType": "Unknown",
            "status": "Unknown",
            "type": "StopPoint",
            "uri": "/StopPoint/490G00097T"
           },
           {
            "$type": "Tfl.Api.Presentation.Entities.Identifier, Tfl.Api.Presentation.Entities",
            "id": "490G000565",
            "name": "Hammersmith Bus Station",
            "routeType": "Unknown",
            "status": "Unknown",
            "type": "StopPoint",
            "uri": "/StopPoint/490G000565"
           }
          ]
         },
         "plannedWorks": [],
         "routeOptions": [
          {
           "$type": "Tfl.Api.Presentation.Entities.JourneyPlanner.RouteOption, Tfl.Api.Presentation.Entities",
           "directions": [
            "Hammersmith"
           ],
           "lineIdentifier": {
            "$type": "Tfl.Api.Presentation.Entities.Identifier, Tfl.Api.Presentation.Entities",
            "crowding": {
             "$type": "Tfl.Api.Presentation.Entities.Crowding, Tfl.Api.Presentation.Entities"
            },
            "id": "h91",
            "name": "H91",
            "routeType": "Unknown",
            "status": "Unknown",
            "type": "Line",
            "uri": "/Line/h91"
           },
           "name": "H91"
          }
         ]
        },
        {
         "$type": "Tfl.Api.Presentation.Entities.JourneyPlanner.Leg, Tfl.Api.Presentation.Entities",
         "arrivalPoint": {
          "$type": "Tfl.Api.Presentation.Entities.StopPoint, Tfl.Api.Presentation.Entities",
          "additionalProperties": [],
          "commonName": "Southampton Street / Covent Garden",
          "icsCode": "1012247",
          "lat": 51.51039701446,
          "lon": -0.12182258537,
          "naptanId": "490G00012247",
          "placeType": "StopPoint",
          "platformName": "A",
          "stopLetter": "A"
         },
         "arrivalTime": "2021-03-06T20:00:00",
         "departurePoint": {
          "$type": "Tfl.Api.Presentation.Entities.StopPoint, Tfl.Api.Presentation.Entities",
          "additionalProperties": [],
          "commonName": "Hammersmith Bus Station",
          "icsCode": "1007705",
          "lat": 51.49254641849,
          "lon": -0.22395627195,
          "naptanId": "490G000565",
          "placeType": "StopPoint",
          "platformName": "",
          "stopLetter": "F"
         },
         "departureTime": "2021-03-06T19:15:00",
         "disruptions": [
          {
           "$type": "Tfl.Api.Presentation.Entities.Disruption, Tfl.Api.Presentation.Entities",
           "additionalInfo": "Further information and a <a href=\"https://tfl.gov.uk/campaign/bus-strike?intcmp=25146\">list of affected routes</a>.",
           "category": "RealTime",
           "categoryDescription": "RealTime",
           "created": "2021-02-26T09:44:00",
           "description": "RATP DEV LONDON STRIKE: RATP Dev London bus services in parts of west, south west and north west London are expected to see disruption on Friday 5, Saturday 6 and Wednesday 10 March, TfL is working hard to minimise potential disruption but customers who need to make journeys are advised to check before they travel. Industrial action will affect services from 00:00 to 23:59 on the respective strike dates and until 06:00 on Sunday 7 March.",
           "lastUpdate": "2021-03-04T21:45:00",
           "summary": "",
           "type": "lineInfo"
          }
         ],
         "duration": 45,
         "hasFixedLocations": true,
         "instruction": {
          "$type": "Tfl.Api.Presentation.Entities.Instruction, Tfl.Api.Presentation.Entities",
          "detailed": "9 bus towards Aldwych",
          "steps": [],
          "summary": "9 bus to Southampton Street / Covent Garden"
         },
         "isDisrupted": true,
         "mode": {
          "$type": "Tfl.Api.Presentation.Entities.Identifier, Tfl.Api.Presentation.Entities",
          "id": "bus",
          "name": "bus",
          "routeType": "Unknown",
          "status": "Unknown",
          "type": "Mode"
         },
         "obstacles": [],
         "path": {
          "$type": "Tfl.Api.Presentation.Entities.JourneyPlanner.Path, Tfl.Api.Presentation.Entities",
          "elevation": [],
          "lineString": "[[51.49254577137, -0.22395768944],[51.49283025256, -0.22429097155],[51.49289669938, -0.22392825301],[51.49292654222, -0.2235237399],[51.49307779709, -0.22341702133],[51.49303377754, -0.22288572883],[51.49305288382, -0.22236638725],[51.49307005802, -0.22112684423],[51.49319659439, -0.21998387896],[51.4932033962, -0.21983955834],[51.49323366205, -0.2194638343],[51.49324595244, -0.21908881028],[51.4932496023, -0.21903172639],[51.4932496023, -0.21903172639],[51.4934130545, -0.21647487756],[51.49356715802, -0.21596466389],[51.4936210824, -0.21578876975],[51.4936210824, -0.21578876975],[51.49377277194, -0.21529397184],[51.49386637118, -0.21494457742],[51.49410551597, -0.21411410145],[51.49426793821, -0.21356032892],[51.49441326111, -0.21306484495],[51.49451671837, -0.21277267933],[51.49470204183, -0.21230745853],[51.49470204183, -0.21230745853],[51.49481985472, -0.2120117063],[51.49489744572, -0.2117925785],[51.49505416355, -0.2114551037],[51.49561000721, -0.21016558868],[51.49582369513, -0.20943689778],[51.49591419828, -0.20888590647],[51.4959689705, -0.20835072043],[51.4960086263, -0.20800341014],[51.49606647525, -0.20766979207],[51.49615983134, -0.20730596705],[51.49625230572, -0.2068845489],[51.49664152944, -0.2058752137],[51.49681422114, -0.20540741736],[51.4969127914, -0.20514215643],[51.4969127914, -0.20514215643],[51.49715105266, -0.20450096369],[51.49729743909, -0.20407741145],[51.4974038288, -0.20376137524],[51.4974038288, -0.20376137524],[51.4975038661, -0.20346420553],[51.49782314955, -0.20258722794],[51.49790072261, -0.20236807005],[51.498012919, -0.20206110629],[51.49822832229, -0.20144752806],[51.4983236464, -0.20121326016],[51.49848212303, -0.2007539867],[51.49848212303, -0.2007539867],[51.49853027906, -0.20061442637],[51.49863348374, -0.20030780815],[51.49880983497, -0.19949404872],[51.49891148898, -0.19908663532],[51.49903943913, -0.19863496097],[51.49909969419, -0.19845969565],[51.49927191323, -0.19796304902],[51.49943580703, -0.19750994979],[51.49951447703, -0.19736277003],[51.49960014175, -0.19708564511],[51.49977247803, -0.19659149835],[51.49977247803, -0.19659149835],[51.49996187539, -0.19604842041],[51.50021230837, -0.19537577199],[51.50039327946, -0.19486434765],[51.50054795236, -0.19439718239],[51.50063147985, -0.19416718771],[51.50063147985, -0.19416718771],[51.50089301862, -0.19344702169],[51.50097933941, -0.19321307912],[51.50124861741, -0.19259728681],[51.50136977469, -0.19228992137],[51.5016388257, -0.19165971894],[51.50188291116, -0.19116017279],[51.50199574398, -0.19089635402],[51.5021189959, -0.19014223454],[51.50219254462, -0.18966384158],[51.50234452831, -0.18902384436],[51.50237647355, -0.18876322465],[51.50237091341, -0.18840323221],[51.50235551997, -0.18825436033],[51.50235551997, -0.18825436033],[51.5022863365, -0.1875853023],[51.50225425702, -0.18725517997],[51.50222195401, -0.18691065849],[51.50212949332, -0.18616508913],[51.50207000352, -0.18580724055],[51.50195933913, -0.18504799062],[51.5018632176, -0.18456367735],[51.5018632176, -0.18456367735],[51.50180328927, -0.18426173149],[51.50174624636, -0.18406228217],[51.50167776326, -0.18370479679],[51.50150624696, -0.18250132279],[51.50149547477, -0.18238648535],[51.50145104555, -0.18184074006],[51.50144568752, -0.18149515564],[51.5014483204, -0.18130343707],[51.5014483204, -0.18130343707],[51.50145835521, -0.18057252394],[51.50146421456, -0.18037057516],[51.5014720844, -0.18029822046],[51.50147119071, -0.18024062308],[51.50153235954, -0.17954658966],[51.50157380261, -0.17816174314],[51.50156354629, -0.17692304002],[51.50160617336, -0.1763667839],[51.50160617336, -0.1763667839],[51.5017429474, -0.17458172945],[51.50180049507, -0.17365729478],[51.50180746376, -0.1735273409],[51.5019000637, -0.17196753186],[51.50192526656, -0.17103788626],[51.50192526656, -0.17103788626],[51.50192860897, -0.17091457589],[51.50190884056, -0.1702237641],[51.50185379079, -0.16900125621],[51.50185199227, -0.1688860612],[51.50183693457, -0.16849763843],[51.50182637358, -0.16839720318],[51.50181962633, -0.16796522235],[51.50182186435, -0.16753288121],[51.50182091398, -0.16712782869],[51.50182091398, -0.16712782869],[51.50182027482, -0.16685575109],[51.5017189044, -0.165548659],[51.50167349575, -0.16494533227],[51.50167393338, -0.16316910258],[51.50167393338, -0.16316910258],[51.50167404841, -0.16268320064],[51.50166592629, -0.16216482706],[51.50167152822, -0.16194847655],[51.50172694399, -0.1608944365],[51.50186328072, -0.16041347039],[51.5020534849, -0.15935399288],[51.50223717984, -0.15845326262],[51.50234302614, -0.15660469962],[51.50235760458, -0.15638798279],[51.50245933388, -0.15599484493],[51.50268166805, -0.15526543629],[51.5028538517, -0.15420664572],[51.50292061999, -0.15348398613],[51.50292061999, -0.15348398613],[51.50297678308, -0.15287607161],[51.50299807311, -0.15251499127],[51.50303892369, -0.15225398086],[51.50306384215, -0.15212329372],[51.50311435937, -0.15190511792],[51.50313927744, -0.15177443038],[51.50325601381, -0.1511933527],[51.50327979599, -0.15099066598],[51.50330289665, -0.15074477999],[51.50330279988, -0.15016842877],[51.50376092273, -0.14899715453],[51.50383031675, -0.14883584301],[51.50403040989, -0.14835058751],[51.50403040989, -0.14835058751],[51.50409014443, -0.14820572062],[51.5042284752, -0.14785429249],[51.50442925725, -0.14747151096],[51.50491818178, -0.14654388977],[51.50499655908, -0.14638220579],[51.50504035482, -0.14630838133],[51.50551959994, -0.14533789922],[51.50566781968, -0.14504368807],[51.50583401214, -0.14474874497],[51.50589372996, -0.14454458344],[51.50615604076, -0.14407281429],[51.50642596865, -0.1435142708],[51.50665255626, -0.14305835242],[51.50672216991, -0.14291142246],[51.50694875511, -0.14245549816],[51.50694875511, -0.14245549816],[51.50714098851, -0.14210183746],[51.50752431093, -0.14132250244],[51.50774837857, -0.14070815122],[51.507791714, -0.14060551486],[51.50803397962, -0.14000482571],[51.50816329846, -0.13965370876],[51.50819764623, -0.13955143656],[51.50826898363, -0.13933902458],[51.50826898363, -0.13933902458],[51.50840373098, -0.13893780016],[51.50843762106, -0.13880672447],[51.50861719896, -0.13822298313],[51.50873661104, -0.13781461798],[51.50879654522, -0.13762483593],[51.50897680338, -0.13708428955],[51.50906232377, -0.1368069974],[51.50908768233, -0.13670508774],[51.50925572211, -0.13619348546],[51.50925572211, -0.13619348546],[51.50937074103, -0.1358433007],[51.5094140721, -0.13574065615],[51.50945648737, -0.13558040539],[51.50967245365, -0.1350239738],[51.50974045379, -0.13477621091],[51.50984943911, -0.13484381454],[51.50995636316, -0.1347818036],[51.51011422956, -0.13453036792],[51.51002395632, -0.13394320319],[51.5100961279, -0.13339263412],[51.50993877003, -0.13311084572],[51.50974661115, -0.1329025368],[51.50968232884, -0.13281869933],[51.50965733006, -0.13279420354],[51.50965733006, -0.13279420354],[51.50952703333, -0.13266652896],[51.50924363106, -0.13237549018],[51.50883395601, -0.13206079821],[51.50846875468, -0.13171547141],[51.50808626736, -0.13141408857],[51.50769433368, -0.13108427662],[51.5076344804, -0.13015005748],[51.50761421105, -0.13000678455],[51.50757229389, -0.12963383392],[51.50756518671, -0.12956509332],[51.50756518671, -0.12956509332],[51.50750849702, -0.12901680599],[51.50748730727, -0.12881593069],[51.50750252335, -0.12864238436],[51.5075039263, -0.12816678878],[51.50751592321, -0.12779163061],[51.50753274706, -0.12771888968],[51.50754058422, -0.12764651712],[51.50755671824, -0.12753057359],[51.50772125611, -0.12713474931],[51.50784315945, -0.12688477438],[51.50801737185, -0.1265317796],[51.50804079584, -0.12648389583],[51.50804079584, -0.12648389583],[51.5081828266, -0.12619355187],[51.50841833239, -0.12573716274],[51.5086031391, -0.12548459834],[51.50869876951, -0.12527892445],[51.50881214259, -0.12505811062],[51.50904741353, -0.12458730809],[51.50932577286, -0.12399944414],[51.50964837099, -0.12336652231],[51.50983155909, -0.1230131309],[51.51000575947, -0.12266010608],[51.51008387264, -0.12248396212],[51.51022166374, -0.12210360821],[51.51034807208, -0.1217743316]]",
          "stopPoints": [
           {
            "$type": "Tfl.Api.Presentation.Entities.Identifier, Tfl.Api.Presentation.Entities",
            "id": "490G00008997",
            "name": "Latymer Court",
            "routeType": "Unknown",
            "status": "Unknown",
            "type": "StopPoint",
            "uri": "/StopPoint/490G00008997"
           },
           {
            "$type": "Tfl.Api.Presentation.Entities.Identifier, Tfl.Api.Presentation.Entities",
            "id": "490G00004455",
            "name": "Brook Green",
            "routeType": "Unknown",
            "status": "Unknown",
            "type": "StopPoint",
            "uri": "/StopPoint/490G00004455"
           },
           {
            "$type": "Tfl.Api.Presentation.Entities.Identifier, Tfl.Api.Presentation.Entities",
            "id": "490G00010357",
            "name": "North End Road",
            "routeType": "Unknown",
            "status": "Unknown",
            "type": "StopPoint",
            "uri": "/StopPoint/490G00010357"
           },
           {
            "$type": "Tfl.Api.Presentation.Entities.Identifier, Tfl.Api.Presentation.Entities",
            "id": "490G00008287",
            "name": "Holland Road",
            "routeType": "Unknown",
            "status": "Unknown",
            "type": "StopPoint",
            "uri": "/StopPoint/490G00008287"
           },
           {
            "$type": "Tfl.Api.Presentation.Entities.Identifier, Tfl.Api.Presentation.Entities",
            "id": "490G00003106",
            "name": "Warwick Gardens",
            "routeType": "Unknown",
            "status": "Unknown",
            "type": "StopPoint",
            "uri": "/StopPoint/490G00003106"
           },
           {
            "$type": "Tfl.Api.Presentation.Entities.Identifier, Tfl.Api.Presentation.Entities",
            "id": "490G00005528",
            "name": "The Design Museum",
            "routeType": "Unknown",
            "status": "Unknown",
            "type": "StopPoint",
            "uri": "/StopPoint/490G00005528"
           },
           {
            "$type": "Tfl.Api.Presentation.Entities.Identifier, Tfl.Api.Presentation.Entities",
            "id": "490G00010984",
            "name": "Phillimore Gardens",
            "routeType": "Unknown",
            "status": "Unknown",
            "type": "StopPoint",
            "uri": "/StopPoint/490G00010984"
           },
           {
            "$type": "Tfl.Api.Presentation.Entities.Identifier, Tfl.Api.Presentation.Entities",
            "id": "490G00110R",
            "name": "High Street Kensington Station",
            "routeType": "Unknown",
            "status": "Unknown",
            "type": "StopPoint",
            "uri": "/StopPoint/490G00110R"
           },
           {
            "$type": "Tfl.Api.Presentation.Entities.Identifier, Tfl.Api.Presentation.Entities",
            "id": "490G00011761",
            "name": "Kensington Palace",
            "routeType": "Unknown",
            "status": "Unknown",
            "type": "StopPoint",
            "uri": "/StopPoint/490G00011761"
           },
           {
            "$type": "Tfl.Api.Presentation.Entities.Identifier, Tfl.Api.Presentation.Entities",
            "id": "490G00010728",
            "name": "Palace Gate",
            "routeType": "Unknown",
            "status": "Unknown",
            "type": "StopPoint",
            "uri": "/StopPoint/490G00010728"
           },
           {
            "$type": "Tfl.Api.Presentation.Entities.Identifier, Tfl.Api.Presentation.Entities",
            "id": "490G00019923",
            "name": "Queen's Gate",
            "routeType": "Unknown",
            "status": "Unknown",
            "type": "StopPoint",
            "uri": "/StopPoint/490G00019923"
           },
           {
            "$type": "Tfl.Api.Presentation.Entities.Identifier, Tfl.Api.Presentation.Entities",
            "id": "490G00011750",
            "name": "Royal Albert Hall",
            "routeType": "Unknown",
            "status": "Unknown",
            "type": "StopPoint",
            "uri": "/StopPoint/490G00011750"
           },
           {
            "$type": "Tfl.Api.Presentation.Entities.Identifier, Tfl.Api.Presentation.Entities",
            "id": "490G00011198",
            "name": "Prince Of Wales Gate",
            "routeType": "Unknown",
            "status": "Unknown",
            "type": "StopPoint",
            "uri": "/StopPoint/490G00011198"
           },
           {
            "$type": "Tfl.Api.Presentation.Entities.Identifier, Tfl.Api.Presentation.Entities",
            "id": "490G00011822",
            "name": "Rutland Gardens",
            "routeType": "Unknown",
            "status": "Unknown",
            "type": "StopPoint",
            "uri": "/StopPoint/490G00011822"
           },
           {
            "$type": "Tfl.Api.Presentation.Entities.Identifier, Tfl.Api.Presentation.Entities",
            "id": "490G000575",
            "name": "Knightsbridge Station  / Harrods",
            "routeType": "Unknown",
            "status": "Unknown",
            "type": "StopPoint",
            "uri": "/StopPoint/490G000575"
           },
           {
            "$type": "Tfl.Api.Presentation.Entities.Identifier, Tfl.Api.Presentation.Entities",
            "id": "490G00119A",
            "name": "Hyde Park Corner",
            "routeType": "Unknown",
            "status": "Unknown",
            "type": "StopPoint",
            "uri": "/StopPoint/490G00119A"
           },
           {
            "$type": "Tfl.Api.Presentation.Entities.Identifier, Tfl.Api.Presentation.Entities",
            "id": "490G00010574",
            "name": "Old Park Lane / Hard Rock Cafe",
            "routeType": "Unknown",
            "status": "Unknown",
            "type": "StopPoint",
            "uri": "/StopPoint/490G00010574"
           },
           {
            "$type": "Tfl.Api.Presentation.Entities.Identifier, Tfl.Api.Presentation.Entities",
            "id": "490G00093PE",
            "name": "Green Park Station",
            "routeType": "Unknown",
            "status": "Unknown",
            "type": "StopPoint",
            "uri": "/StopPoint/490G00093PE"
           },
           {
            "$type": "Tfl.Api.Presentation.Entities.Identifier, Tfl.Api.Presentation.Entities",
            "id": "490G00010526",
            "name": "Old Bond Street / Royal Academy",
            "routeType": "Unknown",
            "status": "Unknown",
            "type": "StopPoint",
            "uri": "/StopPoint/490G00010526"
           },
           {
            "$type": "Tfl.Api.Presentation.Entities.Identifier, Tfl.Api.Presentation.Entities",
            "id": "490G00179B",
            "name": "Piccadilly Circus",
            "routeType": "Unknown",
            "status": "Unknown",
            "type": "StopPoint",
            "uri": "/StopPoint/490G00179B"
           },
           {
            "$type": "Tfl.Api.Presentation.Entities.Identifier, Tfl.Api.Presentation.Entities",
            "id": "490G00020307",
            "name": "Haymarket / Jermyn Street",
            "routeType": "Unknown",
            "status": "Unknown",
            "type": "StopPoint",
            "uri": "/StopPoint/490G00020307"
           },
           {
            "$type": "Tfl.Api.Presentation.Entities.Identifier, Tfl.Api.Presentation.Entities",
            "id": "490G000804",
            "name": "Trafalgar Square",
            "routeType": "Unknown",
            "status": "Unknown",
            "type": "StopPoint",
            "uri": "/StopPoint/490G000804"
           },
           {
            "$type": "Tfl.Api.Presentation.Entities.Identifier, Tfl.Api.Presentation.Entities",
            "id": "490G00045",
            "name": "Charing Cross Stn / Trafalgar Square",
            "routeType": "Unknown",
            "status": "Unknown",
            "type": "StopPoint",
            "uri": "/StopPoint/490G00045"
           },
           {
            "$type": "Tfl.Api.Presentation.Entities.Identifier, Tfl.Api.Presentation.Entities",
            "id": "490G00012247",
            "name": "Southampton Street / Covent Garden",
            "routeType": "Unknown",
            "status": "Unknown",
            "type": "StopPoint",
            "uri": "/StopPoint/490G00012247"
           }
          ]
         },
         "plannedWorks": [],
         "routeOptions": [
          {
           "$type": "Tfl.Api.Presentation.Entities.JourneyPlanner.RouteOption, Tfl.Api.Presentation.Entities",
           "directions": [
            "Aldwych"
           ],
           "lineIdentifier": {
            "$type": "Tfl.Api.Presentation.Entities.Identifier, Tfl.Api.Presentation.Entities",
            "crowding": {
             "$type": "Tfl.Api.Presentation.Entities.Crowding, Tfl.Api.Presentation.Entities"
            },
            "id": "9",
            "name": "9",
            "routeType": "Unknown",
            "status": "Unknown",
            "type": "Line",
            "uri": "/Line/9"
           },
           "name": "9"
          }
         ]
        },
        {
         "$type": "Tfl.Api.Presentation.Entities.JourneyPlanner.Leg, Tfl.Api.Presentation.Entities",
         "arrivalPoint": {
          "$type": "Tfl.Api.Presentation.Entities.StopPoint, Tfl.Api.Presentation.Entities",
          "additionalProperties": [],
          "commonName": "Tower Of London",
          "icsCode": "1013573",
          "lat": 51.50968874334,
          "lon": -0.07590947771,
          "naptanId": "490G000795",
          "placeType": "StopPoint",
          "platformName": "TB",
          "stopLetter": "TB"
         },
         "arrivalTime": "2021-03-06T20:30:00",
         "departurePoint": {
          "$type": "Tfl.Api.Presentation.Entities.StopPoint, Tfl.Api.Presentation.Entities",
          "additionalProperties": [],
          "commonName": "Southampton Street / Covent Garden",
          "icsCode": "1012247",
          "lat": 51.51039701446,
          "lon": -0.12182258537,
          "naptanId": "490G00012247",
          "placeType": "StopPoint",
          "platformName": "A",
          "stopLetter": "A"
         },
         "departureTime": "2021-03-06T20:05:00",
         "disruptions": [],
         "duration": 25,
         "hasFixedLocations": true,
         "instruction": {
          "$type": "Tfl.Api.Presentation.Entities.Instruction, Tfl.Api.Presentation.Entities",
          "detailed": "15 bus towards Blackwall",
          "steps": [],
          "summary": "15 bus to The Tower Of London"
         },
         "isDisrupted": false,
         "mode": {
          "$type": "Tfl.Api.Presentation.Entities.Identifier, Tfl.Api.Presentation.Entities",
          "id": "bus",
          "name": "bus",
          "routeType": "Unknown",
          "status": "Unknown",
          "type": "Mode"
         },
         "obstacles": [],
         "path": {
          "$type": "Tfl.Api.Presentation.Entities.JourneyPlanner.Path, Tfl.Api.Presentation.Entities",
          "elevation": [],
          "lineString": "[[51.51034807208, -0.1217743316],[51.51046337182, -0.12147398766],[51.51061014619, -0.12109325785],[51.51078203294, -0.12059620178],[51.51097212159, -0.12011280398],[51.51110114912, -0.11974720755],[51.51128247854, -0.11927857494],[51.51167326963, -0.11897424871],[51.51203296447, -0.11897384386],[51.51230377816, -0.11877976966],[51.51230377816, -0.11877976966],[51.51235301697, -0.11874448319],[51.51263735364, -0.11853100272],[51.51290993038, -0.11814506049],[51.51301430298, -0.11792457905],[51.51316889619, -0.11747143356],[51.51325228861, -0.11706445729],[51.51329167175, -0.11671694303],[51.51327158255, -0.11602599132],[51.51310724122, -0.11531216987],[51.51309983442, -0.1148512904],[51.51314987746, -0.11458102498],[51.51314987746, -0.11458102498],[51.5132073988, -0.11427036682],[51.51329999823, -0.11387741598],[51.51338314643, -0.11345602974],[51.51344026026, -0.11309336638],[51.51349690944, -0.11270189696],[51.51364730933, -0.11198948212],[51.51372285546, -0.11165487695],[51.51374772809, -0.11152413811],[51.51382854813, -0.11095871686],[51.51393609302, -0.11037777529],[51.51398583526, -0.11011629493],[51.51411824618, -0.10940460848],[51.51414218754, -0.10921625629],[51.51414838773, -0.10904305099],[51.51416334197, -0.1088550707],[51.51416948145, -0.10873934157],[51.51416948145, -0.10873934157],[51.51418403073, -0.10846507927],[51.51419092669, -0.10833508205],[51.5141895329, -0.10824866543],[51.5141961963, -0.1081042654],[51.51421161372, -0.10794509019],[51.51420836076, -0.10774345138],[51.51421293201, -0.1074694263],[51.51421200239, -0.10741181522],[51.51420898095, -0.10722457923],[51.51421262111, -0.10689294306],[51.51419735722, -0.10650444112],[51.51419317159, -0.10624519153],[51.51419131113, -0.1061299695],[51.51418311755, -0.10591696917],[51.51418311755, -0.10591696917],[51.5141758121, -0.10572706533],[51.51416766953, -0.1052229694],[51.514172933, -0.10499215268],[51.51416781308, -0.10467529251],[51.51416362342, -0.10441604335],[51.51414928261, -0.10408515377],[51.51412269419, -0.10355299966],[51.51400940059, -0.10266413961],[51.5139897966, -0.10256406782],[51.51393075109, -0.10224945033],[51.51388069125, -0.10193446012],[51.51387788763, -0.10191056102],[51.51387788763, -0.10191056102],[51.51382853244, -0.10148984722],[51.5138275999, -0.10143223682],[51.5137934122, -0.10098687758],[51.51376178845, -0.10069994733],[51.51370437081, -0.1004861518],[51.51363773301, -0.10025832817],[51.51349873619, -0.10000469164],[51.51328633106, -0.09910556591],[51.51326356947, -0.09825619843],[51.51321490036, -0.09802763172],[51.51313362803, -0.09765709072],[51.51313362803, -0.09765709072],[51.51302068685, -0.09714217448],[51.51289404716, -0.09654214755],[51.51288365823, -0.09645610859],[51.51273623613, -0.09568400843],[51.51264670451, -0.09515450079],[51.51260659161, -0.0949056658],[51.51260659161, -0.0949056658],[51.5125867035, -0.09478229401],[51.51254584423, -0.09448134888],[51.51248724529, -0.09419555655],[51.51239840925, -0.09370926112],[51.51231284906, -0.09342459637],[51.51214743427, -0.09265326684],[51.51200279893, -0.09205401533],[51.51198365457, -0.09198275658],[51.5118683188, -0.09152640158],[51.51177721115, -0.09115529563],[51.51177721115, -0.09115529563],[51.51167569787, -0.09074181207],[51.51147791141, -0.08964039056],[51.51142828723, -0.08935423541],[51.5112909788, -0.08865381622],[51.51125057341, -0.08838168885],[51.51117187388, -0.08796705045],[51.51113123209, -0.08768052281],[51.51110239417, -0.08756643878],[51.5109471023, -0.08686678318],[51.51087121698, -0.08662496876],[51.51087691396, -0.08642297063],[51.5108615826, -0.0860345057],[51.51080272822, -0.08573433373],[51.51074269758, -0.08536215509],[51.5107453644, -0.08523109878],[51.5107453644, -0.08523109878],[51.51075267589, -0.08487175077],[51.51074397363, -0.08433889577],[51.51068393858, -0.08396671956],[51.51058207317, -0.08323601721],[51.51042911008, -0.08268039864],[51.51009099934, -0.08180110294],[51.50987704005, -0.0812133602],[51.50987704005, -0.0812133602],[51.50966729126, -0.08063719678],[51.50949870064, -0.08022636443],[51.50956705567, -0.08000732614],[51.50962312274, -0.07958704979],[51.50961651941, -0.07918381936],[51.50956002829, -0.07848005703],[51.5094063349, -0.07788126432],[51.50947896473, -0.07682620702],[51.50960006086, -0.07598526914],[51.50962532924, -0.07587286703]]",
          "stopPoints": [
           {
            "$type": "Tfl.Api.Presentation.Entities.Identifier, Tfl.Api.Presentation.Entities",
            "id": "490G000385",
            "name": "Aldwych",
            "routeType": "Unknown",
            "status": "Unknown",
            "type": "StopPoint",
            "uri": "/StopPoint/490G000385"
           },
           {
            "$type": "Tfl.Api.Presentation.Entities.Identifier, Tfl.Api.Presentation.Entities",
            "id": "490G000731",
            "name": "The Royal Courts Of Justice",
            "routeType": "Unknown",
            "status": "Unknown",
            "type": "StopPoint",
            "uri": "/StopPoint/490G000731"
           },
           {
            "$type": "Tfl.Api.Presentation.Entities.Identifier, Tfl.Api.Presentation.Entities",
            "id": "490G00006826",
            "name": "Fetter Lane",
            "routeType": "Unknown",
            "status": "Unknown",
            "type": "StopPoint",
            "uri": "/StopPoint/490G00006826"
           },
           {
            "$type": "Tfl.Api.Presentation.Entities.Identifier, Tfl.Api.Presentation.Entities",
            "id": "490G00019205",
            "name": "Ludgate Circus",
            "routeType": "Unknown",
            "status": "Unknown",
            "type": "StopPoint",
            "uri": "/StopPoint/490G00019205"
           },
           {
            "$type": "Tfl.Api.Presentation.Entities.Identifier, Tfl.Api.Presentation.Entities",
            "id": "490G00009443",
            "name": "Ludgate Hill / Old Bailey",
            "routeType": "Unknown",
            "status": "Unknown",
            "type": "StopPoint",
            "uri": "/StopPoint/490G00009443"
           },
           {
            "$type": "Tfl.Api.Presentation.Entities.Identifier, Tfl.Api.Presentation.Entities",
            "id": "490G00012873",
            "name": "St Paul's Cathedral",
            "routeType": "Unknown",
            "status": "Unknown",
            "type": "StopPoint",
            "uri": "/StopPoint/490G00012873"
           },
           {
            "$type": "Tfl.Api.Presentation.Entities.Identifier, Tfl.Api.Presentation.Entities",
            "id": "490G00143E",
            "name": "Mansion House Station",
            "routeType": "Unknown",
            "status": "Unknown",
            "type": "StopPoint",
            "uri": "/StopPoint/490G00143E"
           },
           {
            "$type": "Tfl.Api.Presentation.Entities.Identifier, Tfl.Api.Presentation.Entities",
            "id": "490G00040E",
            "name": "Cannon Street Station",
            "routeType": "Unknown",
            "status": "Unknown",
            "type": "StopPoint",
            "uri": "/StopPoint/490G00040E"
           },
           {
            "$type": "Tfl.Api.Presentation.Entities.Identifier, Tfl.Api.Presentation.Entities",
            "id": "490G00148K",
            "name": "Monument Station",
            "routeType": "Unknown",
            "status": "Unknown",
            "type": "StopPoint",
            "uri": "/StopPoint/490G00148K"
           },
           {
            "$type": "Tfl.Api.Presentation.Entities.Identifier, Tfl.Api.Presentation.Entities",
            "id": "490G000541",
            "name": "Great Tower Street",
            "routeType": "Unknown",
            "status": "Unknown",
            "type": "StopPoint",
            "uri": "/StopPoint/490G000541"
           },
           {
            "$type": "Tfl.Api.Presentation.Entities.Identifier, Tfl.Api.Presentation.Entities",
            "id": "490G000795",
            "name": "Tower Of London",
            "routeType": "Unknown",
            "status": "Unknown",
            "type": "StopPoint",
            "uri": "/StopPoint/490G000795"
           }
          ]
         },
         "plannedWorks": [],
         "routeOptions": [
          {
           "$type": "Tfl.Api.Presentation.Entities.JourneyPlanner.RouteOption, Tfl.Api.Presentation.Entities",
           "directions": [
            "Blackwall"
           ],
           "lineIdentifier": {
            "$type": "Tfl.Api.Presentation.Entities.Identifier, Tfl.Api.Presentation.Entities",
            "crowding": {
             "$type": "Tfl.Api.Presentation.Entities.Crowding, Tfl.Api.Presentation.Entities"
            },
            "id": "15",
            "name": "15",
            "routeType": "Unknown",
            "status": "Unknown",
            "type": "Line",
            "uri": "/Line/15"
           },
           "name": "15"
          }
         ]
        },
        {
         "$type": "Tfl.Api.Presentation.Entities.JourneyPlanner.Leg, Tfl.Api.Presentation.Entities",
         "arrivalPoint": {
          "$type": "Tfl.Api.Presentation.Entities.StopPoint, Tfl.Api.Presentation.Entities",
          "additionalProperties": [],
          "commonName": "Tower Hill",
          "icsCode": "1000238",
          "lat": 51.510198111259996,
          "lon": -0.07681033285000001,
          "placeType": "StopPoint",
          "platformName": ""
         },
         "arrivalTime": "2021-03-06T20:32:00",
         "departurePoint": {
          "$type": "Tfl.Api.Presentation.Entities.StopPoint, Tfl.Api.Presentation.Entities",
          "additionalProperties": [],
          "commonName": "Tower Of London",
          "icsCode": "1013573",
          "lat": 51.50968874334,
          "lon": -0.07590947771,
          "naptanId": "490G000795",
          "placeType": "StopPoint",
          "platformName": "TB",
          "stopLetter": "TB"
         },
         "departureTime": "2021-03-06T20:30:00",
         "disruptions": [
          {
           "$type": "Tfl.Api.Presentation.Entities.Disruption, Tfl.Api.Presentation.Entities",
           "additionalInfo": "",
           "category": "PlannedWork",
           "categoryDescription": "PlannedWork",
           "created": "2021-01-08T09:05:00",
           "description": "CIRCLE LINE: Saturday 6, from 1045, and all day Sunday 7 March, no service between Euston Square and Monument.",
           "lastUpdate": "2021-01-08T09:06:00",
           "summary": "",
           "type": "routeBlocking"
          },
          {
           "$type": "Tfl.Api.Presentation.Entities.Disruption, Tfl.Api.Presentation.Entities",
           "additionalInfo": "",
           "category": "PlannedWork",
           "categoryDescription": "PlannedWork",
           "created": "2021-01-08T09:01:00",
           "description": "DISTRICT LINE: Saturday 6, from 1000, and all day Sunday 7 March, no service between Monument and Stepney Green.",
           "lastUpdate": "2021-01-08T09:02:00",
           "summary": "",
           "type": "routeBlocking"
          }
         ],
         "duration": 2,
         "hasFixedLocations": true,
         "instruction": {
          "$type": "Tfl.Api.Presentation.Entities.Instruction, Tfl.Api.Presentation.Entities",
          "detailed": "Walk to Tower Hill",
          "steps": [
           {
            "$type": "Tfl.Api.Presentation.Entities.InstructionStep, Tfl.Api.Presentation.Entities",
            "cumulativeDistance": 69,
            "cumulativeTravelTime": 62,
            "description": "Tower Hill for 69 metres",
            "descriptionHeading": "Continue along ",
            "distance": 69,
            "latitude": 51.50968874334,
            "longitude": -0.07590947771,
            "pathAttribute": {
             "$type": "Tfl.Api.Presentation.Entities.PathAttribute, Tfl.Api.Presentation.Entities"
            },
            "skyDirection": 249,
            "skyDirectionDescription": "West",
            "streetName": "Tower Hill",
            "trackType": "None",
            "turnDirection": "STRAIGHT"
           },
           {
            "$type": "Tfl.Api.Presentation.Entities.InstructionStep, Tfl.Api.Presentation.Entities",
            "cumulativeDistance": 111,
            "cumulativeTravelTime": 100,
            "description": "on to Footpath, continue for 42 metres",
            "descriptionHeading": "Turn right",
            "distance": 42,
            "latitude": 51.50947896473,
            "longitude": -0.07682620702,
            "pathAttribute": {
             "$type": "Tfl.Api.Presentation.Entities.PathAttribute, Tfl.Api.Presentation.Entities"
            },
            "skyDirection": 356,
            "skyDirectionDescription": "North",
            "streetName": "Footpath",
            "trackType": "None",
            "turnDirection": "RIGHT"
           },
           {
            "$type": "Tfl.Api.Presentation.Entities.InstructionStep, Tfl.Api.Presentation.Entities",
            "cumulativeDistance": 140,
            "cumulativeTravelTime": 126,
            "description": "on to Trinity Place, continue for 29 metres",
            "descriptionHeading": "Continue along ",
            "distance": 29,
            "latitude": 51.50985710113,
            "longitude": -0.076853516,
            "pathAttribute": {
             "$type": "Tfl.Api.Presentation.Entities.PathAttribute, Tfl.Api.Presentation.Entities"
            },
            "skyDirection": 354,
            "skyDirectionDescription": "North",
            "streetName": "Trinity Place",
            "trackType": "None",
            "turnDirection": "STRAIGHT"
           },
           {
            "$type": "Tfl.Api.Presentation.Entities.InstructionStep, Tfl.Api.Presentation.Entities",
            "cumulativeDistance": 149,
            "cumulativeTravelTime": 134,
            "description": "on to Trinity Square, continue for 9 metres",
            "descriptionHeading": "Continue along ",
            "distance": 9,
            "latitude": 51.51011841458,
            "longitude": -0.07688574498,
            "pathAttribute": {
             "$type": "Tfl.Api.Presentation.Entities.PathAttribute, Tfl.Api.Presentation.Entities"
            },
            "skyDirection": 356,
            "skyDirectionDescription": "North",
            "streetName": "Trinity Square",
            "trackType": "None",
            "turnDirection": "STRAIGHT"
           }
          ],
          "summary": "Walk to Tower Hill"
         },
         "isDisrupted": true,
         "mode": {
          "$type": "Tfl.Api.Presentation.Entities.Identifier, Tfl.Api.Presentation.Entities",
          "id": "walking",
          "name": "walking",
          "routeType": "Unknown",
          "status": "Unknown",
          "type": "Mode"
         },
         "obstacles": [
          {
           "$type": "Tfl.Api.Presentation.Entities.JourneyPlanner.Obstacle, Tfl.Api.Presentation.Entities",
           "incline": "LEVEL",
           "position": "IDEST",
           "stopId": 1013573,
           "type": "WALKWAY"
          }
         ],
         "path": {
          "$type": "Tfl.Api.Presentation.Entities.JourneyPlanner.Path, Tfl.Api.Presentation.Entities",
          "elevation": [],
          "lineString": "[[51.50968874334, -0.07590947771],[51.50962748947, -0.07586325755],[51.50960006086, -0.07598526914],[51.50947896473, -0.07682620702],[51.50985710113, -0.076853516],[51.51011841458, -0.07688574498],[51.51019943368, -0.07689097984],[51.51019811126, -0.07681033285]]",
          "stopPoints": [
           {
            "$type": "Tfl.Api.Presentation.Entities.Identifier, Tfl.Api.Presentation.Entities",
            "name": "Tower Hill",
            "routeType": "Unknown",
            "status": "Unknown",
            "type": "StopPoint",
            "uri": "/StopPoint/"
           }
          ]
         },
         "plannedWorks": [],
         "routeOptions": [
          {
           "$type": "Tfl.Api.Presentation.Entities.JourneyPlanner.RouteOption, Tfl.Api.Presentation.Entities",
           "directions": [
            ""
           ],
           "name": ""
          }
         ]
        }
       ],
       "startDateTime": "2021-03-06T18:00:00"
      },
      "text/plain": [
       "<IPython.core.display.JSON object>"
      ]
     },
     "execution_count": 43,
     "metadata": {
      "application/json": {
       "expanded": false,
       "root": "root"
      }
     },
     "output_type": "execute_result"
    }
   ],
   "source": [
    "JSON(bus18Length['journeys'][1])"
   ]
  },
  {
   "cell_type": "code",
   "execution_count": 33,
   "metadata": {},
   "outputs": [],
   "source": [
    "buses_7 = []\n",
    "for i in bus7Length['journeys'][1]['legs']: # second duration shortest at 133 min\n",
    "    buses7 = {\n",
    "        'departing:' : i['departureTime'],\n",
    "        'from' : i['departurePoint']['commonName'],\n",
    "        'arriving' : i['arrivalTime'],\n",
    "        'to' : i['arrivalPoint']['commonName']\n",
    "        }\n",
    "    buses_7.append(buses7)\n",
    "        \n",
    "buses_10 = []\n",
    "for i in bus10Length['journeys'][0]['legs']: # first duration shortest at 164 min\n",
    "    buses10 = {\n",
    "        'departing:' : i['departureTime'],\n",
    "        'from' : i['departurePoint']['commonName'],\n",
    "        'arriving' : i['arrivalTime'],\n",
    "        'to' : i['arrivalPoint']['commonName']\n",
    "        }\n",
    "    buses_10.append(buses10)\n",
    "\n",
    "buses_15 = []\n",
    "for i in bus15Length['journeys'][2]['legs']: # third duration shortest at 177 min\n",
    "    buses15 = {\n",
    "        'departing:' : i['departureTime'],\n",
    "        'from' : i['departurePoint']['commonName'],\n",
    "        'arriving' : i['arrivalTime'],\n",
    "        'to' : i['arrivalPoint']['commonName']\n",
    "        }\n",
    "    buses_15.append(buses15)\n",
    "        \n",
    "buses_18 = []\n",
    "for i in bus18Length['journeys'][1]['legs']: # second duration shortest at 152 min\n",
    "    buses18 = {\n",
    "        'departing:' : i['departureTime'],\n",
    "        'from' : i['departurePoint']['commonName'],\n",
    "        'arriving' : i['arrivalTime'],\n",
    "        'to' : i['arrivalPoint']['commonName']\n",
    "        }\n",
    "    buses_18.append(buses18)\n"
   ]
  },
  {
   "cell_type": "code",
   "execution_count": 34,
   "metadata": {},
   "outputs": [
    {
     "data": {
      "text/plain": [
       "[{'departing:': '2021-03-06T07:10:00',\n",
       "  'from': 'Heathrow Terminal 5',\n",
       "  'arriving': '2021-03-06T07:35:00',\n",
       "  'to': 'Hounslow West Stn  / Vicarage Farm Rd'},\n",
       " {'departing:': '2021-03-06T07:41:00',\n",
       "  'from': 'Hounslow West Stn  / Vicarage Farm Rd',\n",
       "  'arriving': '2021-03-06T08:17:00',\n",
       "  'to': 'Hammersmith Bus Station'},\n",
       " {'departing:': '2021-03-06T08:19:00',\n",
       "  'from': 'Hammersmith Bus Station',\n",
       "  'arriving': '2021-03-06T08:50:00',\n",
       "  'to': 'Trafalgar Square'},\n",
       " {'departing:': '2021-03-06T08:51:00',\n",
       "  'from': 'Trafalgar Square',\n",
       "  'arriving': '2021-03-06T08:57:00',\n",
       "  'to': 'Charing Cross Stn  / Trafalgar Square'},\n",
       " {'departing:': '2021-03-06T08:57:00',\n",
       "  'from': 'Charing Cross Stn  / Trafalgar Square',\n",
       "  'arriving': '2021-03-06T09:21:00',\n",
       "  'to': 'Tower Of London'},\n",
       " {'departing:': '2021-03-06T09:21:00',\n",
       "  'from': 'Tower Of London',\n",
       "  'arriving': '2021-03-06T09:23:00',\n",
       "  'to': 'Tower Hill'}]"
      ]
     },
     "execution_count": 34,
     "metadata": {},
     "output_type": "execute_result"
    }
   ],
   "source": [
    "buses_7"
   ]
  },
  {
   "cell_type": "code",
   "execution_count": 35,
   "metadata": {},
   "outputs": [
    {
     "data": {
      "text/plain": [
       "[{'departing:': '2021-03-06T09:40:00',\n",
       "  'from': 'Heathrow Terminal 5',\n",
       "  'arriving': '2021-03-06T10:05:00',\n",
       "  'to': 'Hounslow West Stn  / Vicarage Farm Rd'},\n",
       " {'departing:': '2021-03-06T10:07:00',\n",
       "  'from': 'Hounslow West Stn  / Vicarage Farm Rd',\n",
       "  'arriving': '2021-03-06T11:00:00',\n",
       "  'to': 'Hammersmith Bus Station'},\n",
       " {'departing:': '2021-03-06T11:02:00',\n",
       "  'from': 'Hammersmith Bus Station',\n",
       "  'arriving': '2021-03-06T11:47:00',\n",
       "  'to': 'Southampton Street / Covent Garden'},\n",
       " {'departing:': '2021-03-06T11:53:00',\n",
       "  'from': 'Southampton Street / Covent Garden',\n",
       "  'arriving': '2021-03-06T12:22:00',\n",
       "  'to': 'Tower Of London'},\n",
       " {'departing:': '2021-03-06T12:22:00',\n",
       "  'from': 'Tower Of London',\n",
       "  'arriving': '2021-03-06T12:24:00',\n",
       "  'to': 'Tower Hill'}]"
      ]
     },
     "execution_count": 35,
     "metadata": {},
     "output_type": "execute_result"
    }
   ],
   "source": [
    "buses_10"
   ]
  },
  {
   "cell_type": "code",
   "execution_count": 36,
   "metadata": {},
   "outputs": [
    {
     "data": {
      "text/plain": [
       "[{'departing:': '2021-03-06T15:20:00',\n",
       "  'from': 'Heathrow Terminal 5',\n",
       "  'arriving': '2021-03-06T15:51:00',\n",
       "  'to': 'Hounslow West Stn  / Vicarage Farm Rd'},\n",
       " {'departing:': '2021-03-06T15:53:00',\n",
       "  'from': 'Hounslow West Stn  / Vicarage Farm Rd',\n",
       "  'arriving': '2021-03-06T16:49:00',\n",
       "  'to': 'Hammersmith Bus Station'},\n",
       " {'departing:': '2021-03-06T16:51:00',\n",
       "  'from': 'Hammersmith Bus Station',\n",
       "  'arriving': '2021-03-06T17:42:00',\n",
       "  'to': 'Southampton Street / Covent Garden'},\n",
       " {'departing:': '2021-03-06T17:47:00',\n",
       "  'from': 'Southampton Street / Covent Garden',\n",
       "  'arriving': '2021-03-06T18:15:00',\n",
       "  'to': 'Tower Of London'},\n",
       " {'departing:': '2021-03-06T18:15:00',\n",
       "  'from': 'Tower Of London',\n",
       "  'arriving': '2021-03-06T18:17:00',\n",
       "  'to': 'Tower Hill'}]"
      ]
     },
     "execution_count": 36,
     "metadata": {},
     "output_type": "execute_result"
    }
   ],
   "source": [
    "buses_15"
   ]
  },
  {
   "cell_type": "code",
   "execution_count": 37,
   "metadata": {},
   "outputs": [
    {
     "data": {
      "text/plain": [
       "[{'departing:': '2021-03-06T18:00:00',\n",
       "  'from': 'Heathrow Terminal 5',\n",
       "  'arriving': '2021-03-06T18:30:00',\n",
       "  'to': 'Hounslow West Stn  / Vicarage Farm Rd'},\n",
       " {'departing:': '2021-03-06T18:32:00',\n",
       "  'from': 'Hounslow West Stn  / Vicarage Farm Rd',\n",
       "  'arriving': '2021-03-06T19:12:00',\n",
       "  'to': 'Hammersmith Bus Station'},\n",
       " {'departing:': '2021-03-06T19:15:00',\n",
       "  'from': 'Hammersmith Bus Station',\n",
       "  'arriving': '2021-03-06T20:00:00',\n",
       "  'to': 'Southampton Street / Covent Garden'},\n",
       " {'departing:': '2021-03-06T20:05:00',\n",
       "  'from': 'Southampton Street / Covent Garden',\n",
       "  'arriving': '2021-03-06T20:30:00',\n",
       "  'to': 'Tower Of London'},\n",
       " {'departing:': '2021-03-06T20:30:00',\n",
       "  'from': 'Tower Of London',\n",
       "  'arriving': '2021-03-06T20:32:00',\n",
       "  'to': 'Tower Hill'}]"
      ]
     },
     "execution_count": 37,
     "metadata": {},
     "output_type": "execute_result"
    }
   ],
   "source": [
    "buses_18"
   ]
  },
  {
   "cell_type": "code",
   "execution_count": null,
   "metadata": {},
   "outputs": [],
   "source": []
  }
 ],
 "metadata": {
  "kernelspec": {
   "display_name": "Python 3",
   "language": "python",
   "name": "python3"
  },
  "language_info": {
   "codemirror_mode": {
    "name": "ipython",
    "version": 3
   },
   "file_extension": ".py",
   "mimetype": "text/x-python",
   "name": "python",
   "nbconvert_exporter": "python",
   "pygments_lexer": "ipython3",
   "version": "3.7.6"
  }
 },
 "nbformat": 4,
 "nbformat_minor": 4
}
